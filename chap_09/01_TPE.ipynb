{
 "cells": [
  {
   "cell_type": "code",
   "execution_count": 1,
   "metadata": {
    "cell_id": "d6adaeb0b75842e7b40e9004b4c777ee",
    "deepnote_cell_type": "code",
    "execution_context_id": "6c1cb364-c279-4efc-a80f-ed87d183dd22",
    "execution_millis": 2475,
    "execution_start": 1752530078181,
    "source_hash": "277003c5"
   },
   "outputs": [
    {
     "name": "stderr",
     "output_type": "stream",
     "text": [
      "2025-07-14 21:54:38.908215: I tensorflow/core/util/port.cc:113] oneDNN custom operations are on. You may see slightly different numerical results due to floating-point round-off errors from different computation orders. To turn them off, set the environment variable `TF_ENABLE_ONEDNN_OPTS=0`.\n",
      "2025-07-14 21:54:38.911593: I external/local_tsl/tsl/cuda/cudart_stub.cc:31] Could not find cuda drivers on your machine, GPU will not be used.\n",
      "2025-07-14 21:54:38.944994: E external/local_xla/xla/stream_executor/cuda/cuda_dnn.cc:9261] Unable to register cuDNN factory: Attempting to register factory for plugin cuDNN when one has already been registered\n",
      "2025-07-14 21:54:38.945111: E external/local_xla/xla/stream_executor/cuda/cuda_fft.cc:607] Unable to register cuFFT factory: Attempting to register factory for plugin cuFFT when one has already been registered\n",
      "2025-07-14 21:54:38.946212: E external/local_xla/xla/stream_executor/cuda/cuda_blas.cc:1515] Unable to register cuBLAS factory: Attempting to register factory for plugin cuBLAS when one has already been registered\n",
      "2025-07-14 21:54:38.951858: I external/local_tsl/tsl/cuda/cudart_stub.cc:31] Could not find cuda drivers on your machine, GPU will not be used.\n",
      "2025-07-14 21:54:38.952694: I tensorflow/core/platform/cpu_feature_guard.cc:182] This TensorFlow binary is optimized to use available CPU instructions in performance-critical operations.\n",
      "To enable the following instructions: AVX2 AVX512F AVX512_VNNI FMA, in other operations, rebuild TensorFlow with the appropriate compiler flags.\n",
      "2025-07-14 21:54:39.829008: W tensorflow/compiler/tf2tensorrt/utils/py_utils.cc:38] TF-TRT Warning: Could not find TensorRT\n"
     ]
    }
   ],
   "source": [
    "# Numerical Computing\n",
    "import numpy as np\n",
    "\n",
    "# Data Manipulation\n",
    "import pandas as pd\n",
    "\n",
    "# Warnings\n",
    "import warnings\n",
    "\n",
    "# Time\n",
    "import time\n",
    "\n",
    "# Notebook Optimizer\n",
    "from tqdm.notebook import tqdm\n",
    "\n",
    "# Scikit-Learn\n",
    "from sklearn.metrics import f1_score\n",
    "from sklearn.compose import ColumnTransformer\n",
    "from sklearn.model_selection import train_test_split\n",
    "from sklearn.preprocessing import StandardScaler, OneHotEncoder\n",
    "\n",
    "# TensorFlow\n",
    "import tensorflow as tf\n",
    "from tensorflow.keras import backend as K\n",
    "from tensorflow.keras.models import Sequential  \n",
    "from tensorflow.keras.optimizers import Adam, SGD\n",
    "from tensorflow.keras.layers import Dense, Dropout \n",
    "\n",
    "# Optuna\n",
    "import optuna"
   ]
  },
  {
   "cell_type": "code",
   "execution_count": 4,
   "metadata": {
    "cell_id": "f794b2cd8c11497da73a06d987486372",
    "deepnote_cell_type": "code",
    "execution_context_id": "6c1cb364-c279-4efc-a80f-ed87d183dd22",
    "execution_millis": 1,
    "execution_start": 1752530083337,
    "source_hash": "1d711c8f"
   },
   "outputs": [],
   "source": [
    "warnings.filterwarnings(\"ignore\")"
   ]
  },
  {
   "cell_type": "code",
   "execution_count": 7,
   "metadata": {
    "cell_id": "c650510301964682a78e3b0808c9176b",
    "deepnote_cell_type": "code",
    "execution_context_id": "6c1cb364-c279-4efc-a80f-ed87d183dd22",
    "execution_millis": 962,
    "execution_start": 1752530097512,
    "source_hash": "96cebd3b"
   },
   "outputs": [
    {
     "data": {
      "application/vnd.jupyter.widget-view+json": {
       "model_id": "d15fe8977fbc4db882c8eb57f705eb1f",
       "version_major": 2,
       "version_minor": 0
      },
      "text/plain": [
       "Loading:   0%|          | 0/10 [00:00<?, ?it/s]"
      ]
     },
     "metadata": {},
     "output_type": "display_data"
    }
   ],
   "source": [
    "from tqdm.notebook import tqdm\n",
    "import time\n",
    "\n",
    "for i in tqdm(range(10), desc=\"Loading\"):\n",
    "    time.sleep(0.1)"
   ]
  },
  {
   "cell_type": "code",
   "execution_count": 10,
   "metadata": {
    "cell_id": "b479dbdc25d14f7995afa68efbadc3f1",
    "deepnote_cell_type": "code",
    "execution_context_id": "6c1cb364-c279-4efc-a80f-ed87d183dd22",
    "execution_millis": 0,
    "execution_start": 1752530133211,
    "source_hash": "1eeb7702"
   },
   "outputs": [],
   "source": [
    "def create_model(trial, input_size): \n",
    "    model = Sequential()\n",
    "    model.add(Dense(input_size, input_shape=(input_size,), activation='relu')) \n",
    "\n",
    "    num_layers = trial.suggest_int('num_layers', 0, 3)\n",
    "    for layer_i in range(num_layers):\n",
    "        n_units = trial.suggest_int(f'n_units_layer_{layer_i}', 10, 50, step=5)\n",
    "        dropout_rate = trial.suggest_float(f'dropout_rate_layer_{layer_i}', 0.0, 0.5)\n",
    "        actv_func = trial.suggest_categorical(f'actv_func_layer_{layer_i}', ['relu', 'tanh', 'elu'])\n",
    "\n",
    "        model.add(Dropout(dropout_rate))\n",
    "        model.add(Dense(n_units, activation=actv_func))\n",
    "\n",
    "    model.add(Dense(1, activation='sigmoid'))\n",
    "    return model"
   ]
  },
  {
   "cell_type": "code",
   "execution_count": 13,
   "metadata": {
    "cell_id": "7802e340b1e440f7a41efa58f8705331",
    "deepnote_cell_type": "code",
    "execution_context_id": "6c1cb364-c279-4efc-a80f-ed87d183dd22",
    "execution_millis": 2,
    "execution_start": 1752530146844,
    "source_hash": "7f0d956c"
   },
   "outputs": [],
   "source": [
    "def create_optimizer(trial):\n",
    "    opt_name = trial.suggest_categorical('optimizer', ['Adam', 'SGD'])\n",
    "    if opt_name == 'SGD':\n",
    "        return SGD(\n",
    "            learning_rate=trial.suggest_float('sgd_lr', 1e-5, 1e-1, log=True),\n",
    "            momentum=trial.suggest_float('sgd_momentum', 1e-5, 1e-1, log=True)\n",
    "        )\n",
    "    else:\n",
    "        return Adam(learning_rate=trial.suggest_float('adam_lr', 1e-5, 1e-1, log=True))"
   ]
  },
  {
   "cell_type": "code",
   "execution_count": 16,
   "metadata": {
    "cell_id": "9c0aa1a67d404d5b83cd364bdadc88ca",
    "deepnote_cell_type": "code",
    "execution_context_id": "6c1cb364-c279-4efc-a80f-ed87d183dd22",
    "execution_millis": 0,
    "execution_start": 1752530157501,
    "source_hash": "10278038"
   },
   "outputs": [],
   "source": [
    "@tf.function\n",
    "def recall_m(y_true, y_pred):\n",
    "    true_positives = K.sum(K.round(K.clip(y_true * y_pred, 0, 1)))\n",
    "    possible_positives = K.sum(K.round(K.clip(y_true, 0, 1)))\n",
    "    recall = true_positives / (possible_positives + K.epsilon())\n",
    "    return recall\n",
    "\n",
    "@tf.function\n",
    "def precision_m(y_true, y_pred):\n",
    "    true_positives = K.sum(K.round(K.clip(y_true * y_pred, 0, 1)))\n",
    "    predicted_positives = K.sum(K.round(K.clip(y_pred, 0, 1)))\n",
    "    precision = true_positives / (predicted_positives + K.epsilon())\n",
    "    return precision\n",
    "\n",
    "@tf.function\n",
    "def f1_m(y_true, y_pred):\n",
    "    precision = precision_m(y_true, y_pred)\n",
    "    recall = recall_m(y_true, y_pred)\n",
    "    return 2 * ((precision * recall) / (precision + recall + K.epsilon()))"
   ]
  },
  {
   "cell_type": "code",
   "execution_count": 19,
   "metadata": {
    "cell_id": "fe3f6285116d4bea92cb11668d2c4309",
    "deepnote_cell_type": "code",
    "execution_context_id": "6c1cb364-c279-4efc-a80f-ed87d183dd22",
    "execution_millis": 2,
    "execution_start": 1752530167415,
    "source_hash": "6e0b2cd9"
   },
   "outputs": [],
   "source": [
    "def preprocessing(X, numeric_preprocessor, categorical_preprocessor, is_train=True):\n",
    "    X = X.copy()\n",
    "    if is_train:\n",
    "        X[numerical_feats] = numeric_preprocessor.fit_transform(X[numerical_feats])\n",
    "        X_cat = categorical_preprocessor.fit_transform(X[categorical_feats]).toarray()\n",
    "    else:\n",
    "        X[numerical_feats] = numeric_preprocessor.transform(X[numerical_feats])\n",
    "        X_cat = categorical_preprocessor.transform(X[categorical_feats]).toarray()\n",
    "\n",
    "    X_cat = pd.DataFrame(X_cat, columns=categorical_preprocessor.get_feature_names_out())\n",
    "    X = X.drop(columns=categorical_feats).reset_index(drop=True)\n",
    "    X = pd.concat([X, X_cat], axis=1)\n",
    "    return X, numeric_preprocessor, categorical_preprocessor"
   ]
  },
  {
   "cell_type": "code",
   "execution_count": 22,
   "metadata": {
    "cell_id": "6872467bd6974ed89f5917023fa1c9ea",
    "deepnote_cell_type": "code",
    "execution_context_id": "6c1cb364-c279-4efc-a80f-ed87d183dd22",
    "execution_millis": 2,
    "execution_start": 1752530177378,
    "source_hash": "4b80d82b"
   },
   "outputs": [],
   "source": [
    "def train(trial, df_train, df_val=None, use_pruner=False):\n",
    "    X_train, y_train = df_train.drop(columns=['y']), df_train['y']\n",
    "    X_val, y_val = None, None\n",
    "\n",
    "    if df_val is not None:\n",
    "        X_val, y_val = df_val.drop(columns=['y']), df_val['y']\n",
    "\n",
    "    # Preprocessing\n",
    "    numeric_preprocessor = StandardScaler()\n",
    "    categorical_preprocessor = OneHotEncoder(handle_unknown=\"ignore\")\n",
    "    X_train, numeric_preprocessor, categorical_preprocessor = preprocessing(X_train, numeric_preprocessor, categorical_preprocessor, is_train=True)\n",
    "    \n",
    "    if df_val is not None:\n",
    "        X_val, _, _ = preprocessing(X_val, numeric_preprocessor, categorical_preprocessor, is_train=False)\n",
    "\n",
    "    model = create_model(trial, X_train.shape[1])\n",
    "    optimizer = create_optimizer(trial)\n",
    "\n",
    "    callbacks = []\n",
    "    if use_pruner and df_val is not None:\n",
    "        callbacks.append(optuna.integration.TFKerasPruningCallback(trial, 'val_f1_m'))\n",
    "\n",
    "    model.compile(loss='binary_crossentropy', optimizer=optimizer, metrics=[f1_m])\n",
    "    history = model.fit(\n",
    "        X_train, y_train,\n",
    "        epochs=trial.suggest_int('epoch', 15, 50),\n",
    "        batch_size=64,\n",
    "        validation_data=(X_val, y_val) if df_val is not None else None,\n",
    "        callbacks=callbacks,\n",
    "        verbose=0\n",
    "    )\n",
    "\n",
    "    if df_val is not None:\n",
    "        return np.mean(history.history['val_f1_m'])\n",
    "    return model"
   ]
  },
  {
   "cell_type": "code",
   "execution_count": 25,
   "metadata": {
    "cell_id": "685c1bff59a04f668199347907426529",
    "deepnote_cell_type": "code",
    "execution_context_id": "6c1cb364-c279-4efc-a80f-ed87d183dd22",
    "execution_millis": 0,
    "execution_start": 1752530183560,
    "source_hash": "420959bc"
   },
   "outputs": [],
   "source": [
    "def objective(trial, df_train, use_pruner=False):\n",
    "    df_train_hp, df_val = train_test_split(df_train, test_size=0.1, random_state=0)\n",
    "    val_f1_score = train(trial, df_train_hp, df_val, use_pruner)\n",
    "    return val_f1_score"
   ]
  },
  {
   "cell_type": "code",
   "execution_count": 28,
   "metadata": {
    "cell_id": "caca0f414ad74259b324212fe54bd675",
    "deepnote_cell_type": "code",
    "execution_context_id": "6c1cb364-c279-4efc-a80f-ed87d183dd22",
    "execution_millis": 0,
    "execution_start": 1752530192451,
    "source_hash": "79a29fdb"
   },
   "outputs": [],
   "source": [
    "def train_and_evaluate_final(df_train, df_test, **kwargs):\n",
    "    X_train, y_train = df_train.drop(columns=['y']), df_train['y']\n",
    "    X_test, y_test = df_test.drop(columns=['y']), df_test['y']\n",
    "\n",
    "    numeric_preprocessor = StandardScaler()\n",
    "    categorical_preprocessor = OneHotEncoder(handle_unknown=\"ignore\")\n",
    "\n",
    "    X_train, numeric_preprocessor, categorical_preprocessor = preprocessing(X_train, numeric_preprocessor, categorical_preprocessor, is_train=True)\n",
    "    X_test, _, _ = preprocessing(X_test, numeric_preprocessor, categorical_preprocessor, is_train=False)\n",
    "\n",
    "    model = Sequential()\n",
    "    model.add(Dense(X_train.shape[1], input_shape=(X_train.shape[1],), activation='relu'))\n",
    "\n",
    "    for i in range(kwargs.get('num_layers', 0)):\n",
    "        model.add(Dropout(kwargs.get(f'dropout_rate_layer_{i}', 0)))\n",
    "        model.add(Dense(kwargs.get(f'n_units_layer_{i}', 10), activation=kwargs.get(f'actv_func_layer_{i}', 'relu')))\n",
    "\n",
    "    model.add(Dense(1, activation='sigmoid'))\n",
    "\n",
    "    opt_name = kwargs.get('optimizer', 'Adam')\n",
    "    if opt_name == 'SGD':\n",
    "        optimizer = SGD(\n",
    "            learning_rate=kwargs.get('sgd_lr', 1e-5),\n",
    "            momentum=kwargs.get('sgd_momentum', 1e-5)\n",
    "        )\n",
    "    else:\n",
    "        optimizer = Adam(learning_rate=kwargs.get('adam_lr', 1e-5))\n",
    "\n",
    "    model.compile(loss='binary_crossentropy', optimizer=optimizer, metrics=[f1_m])\n",
    "    model.fit(X_train, y_train, epochs=kwargs.get('epoch', 15), batch_size=64, verbose=1)\n",
    "\n",
    "    y_test_pred_proba = model.predict(X_test)\n",
    "    y_test_pred = [1 if x > 0.5 else 0 for x in y_test_pred_proba]\n",
    "\n",
    "    print(\"=\" * 100)\n",
    "    print(\"F1-Score on Test Data:\", f1_score(y_test, y_test_pred))"
   ]
  },
  {
   "cell_type": "markdown",
   "metadata": {
    "cell_id": "5985e2aaaa8744318bf65843658297ba",
    "deepnote_cell_type": "text-cell-h3",
    "formattedRanges": []
   },
   "source": [
    "### TPE"
   ]
  },
  {
   "cell_type": "code",
   "execution_count": 31,
   "metadata": {
    "cell_id": "3fb7ee5b6fef46b598f95caac5c1e7ec",
    "deepnote_cell_type": "code",
    "execution_context_id": "6c1cb364-c279-4efc-a80f-ed87d183dd22",
    "execution_millis": 356,
    "execution_start": 1752530233471,
    "source_hash": "87106847"
   },
   "outputs": [],
   "source": [
    "df = pd.read_csv(\"/work/train.csv\", sep=\";\")"
   ]
  },
  {
   "cell_type": "code",
   "execution_count": 34,
   "metadata": {
    "cell_id": "79e1290213764581b86a9bff6c922a15",
    "deepnote_cell_type": "code",
    "execution_context_id": "6c1cb364-c279-4efc-a80f-ed87d183dd22",
    "execution_millis": 1,
    "execution_start": 1752530243574,
    "source_hash": "63827ff9"
   },
   "outputs": [],
   "source": [
    "df['y'] = df['y'].map({'yes':1,'no':0})"
   ]
  },
  {
   "cell_type": "code",
   "execution_count": 37,
   "metadata": {
    "cell_id": "9b48377d984249579ee1e0c845ca1826",
    "deepnote_cell_type": "code",
    "execution_context_id": "6c1cb364-c279-4efc-a80f-ed87d183dd22",
    "execution_millis": 0,
    "execution_start": 1752530260121,
    "source_hash": "92000d7"
   },
   "outputs": [],
   "source": [
    "df_train, df_test = train_test_split(df, test_size=0.1, random_state=0)"
   ]
  },
  {
   "cell_type": "code",
   "execution_count": 40,
   "metadata": {
    "cell_id": "00a145ca4aa843e6b4e1731624f9ce5f",
    "deepnote_cell_type": "code",
    "execution_context_id": "6c1cb364-c279-4efc-a80f-ed87d183dd22",
    "execution_millis": 5,
    "execution_start": 1752530269747,
    "source_hash": "935b3b37"
   },
   "outputs": [],
   "source": [
    "numerical_feats = list(df_train.drop(columns='y').select_dtypes(include=np.number).columns)"
   ]
  },
  {
   "cell_type": "code",
   "execution_count": 43,
   "metadata": {
    "cell_id": "b75b54009dc141cc82d45548de84a32f",
    "deepnote_cell_type": "code",
    "execution_context_id": "6c1cb364-c279-4efc-a80f-ed87d183dd22",
    "execution_millis": 7,
    "execution_start": 1752530274972,
    "source_hash": "156cfe7"
   },
   "outputs": [],
   "source": [
    "categorical_feats = list(df_train.drop(columns='y').select_dtypes(exclude=np.number).columns)"
   ]
  },
  {
   "cell_type": "markdown",
   "metadata": {
    "cell_id": "408640f04c1b45688c91905b66ac0f1e",
    "deepnote_cell_type": "text-cell-h3",
    "formattedRanges": []
   },
   "source": [
    "### Performing Hyperparameter Tuning with TPE"
   ]
  },
  {
   "cell_type": "code",
   "execution_count": 46,
   "metadata": {
    "cell_id": "1b52586d5f0d4a5c8e369efc2c9dae44",
    "deepnote_cell_type": "code",
    "execution_context_id": "6c1cb364-c279-4efc-a80f-ed87d183dd22",
    "execution_millis": 1,
    "execution_start": 1752530304981,
    "source_hash": "794a8c95"
   },
   "outputs": [
    {
     "name": "stderr",
     "output_type": "stream",
     "text": [
      "[I 2025-07-14 21:58:24,920] A new study created in memory with name: no-name-180c7249-dc20-4e5b-ac4a-ebb44e36f087\n"
     ]
    }
   ],
   "source": [
    "study = optuna.create_study(direction='maximize',\n",
    "                            sampler=optuna.samplers.TPESampler(seed=0),\n",
    "                           )"
   ]
  },
  {
   "cell_type": "code",
   "execution_count": 49,
   "metadata": {
    "cell_id": "71c18c442803458489f68ea7193ed949",
    "deepnote_cell_type": "code",
    "execution_context_id": "6c1cb364-c279-4efc-a80f-ed87d183dd22",
    "execution_millis": 1046763,
    "execution_start": 1752530309931,
    "source_hash": "49ddc8cd"
   },
   "outputs": [
    {
     "name": "stderr",
     "output_type": "stream",
     "text": [
      "[I 2025-07-14 22:01:23,301] Trial 11 finished with value: 0.19522500932216644 and parameters: {'num_layers': 0, 'optimizer': 'SGD', 'sgd_lr': 3.558370973165931e-05, 'sgd_momentum': 0.03672585775701328, 'epoch': 15}. Best is trial 11 with value: 0.19522500932216644.\n",
      "[I 2025-07-14 22:02:00,578] Trial 2 finished with value: 0.41338187593378517 and parameters: {'num_layers': 0, 'optimizer': 'Adam', 'adam_lr': 0.00011585285852973606, 'epoch': 19}. Best is trial 2 with value: 0.41338187593378517.\n",
      "[I 2025-07-14 22:02:06,425] Trial 12 finished with value: 0.0026843562281053317 and parameters: {'num_layers': 3, 'n_units_layer_0': 15, 'dropout_rate_layer_0': 0.18851756731215935, 'actv_func_layer_0': 'tanh', 'n_units_layer_1': 30, 'dropout_rate_layer_1': 0.16723541425753158, 'actv_func_layer_1': 'relu', 'n_units_layer_2': 15, 'dropout_rate_layer_2': 0.15129208053764825, 'actv_func_layer_2': 'elu', 'optimizer': 'SGD', 'sgd_lr': 2.031560431309805e-05, 'sgd_momentum': 0.005417695169143028, 'epoch': 19}. Best is trial 2 with value: 0.41338187593378517.\n",
      "[I 2025-07-14 22:02:08,732] Trial 7 finished with value: 0.35805737423269374 and parameters: {'num_layers': 3, 'n_units_layer_0': 40, 'dropout_rate_layer_0': 0.07832503316478229, 'actv_func_layer_0': 'tanh', 'n_units_layer_1': 25, 'dropout_rate_layer_1': 0.0031195189120020728, 'actv_func_layer_1': 'elu', 'n_units_layer_2': 20, 'dropout_rate_layer_2': 0.008805376364010353, 'actv_func_layer_2': 'tanh', 'optimizer': 'Adam', 'adam_lr': 1.828056167383733e-05, 'epoch': 19}. Best is trial 2 with value: 0.41338187593378517.\n",
      "[I 2025-07-14 22:02:33,011] Trial 4 finished with value: 0.5277976876213437 and parameters: {'num_layers': 3, 'n_units_layer_0': 40, 'dropout_rate_layer_0': 0.03504178030935717, 'actv_func_layer_0': 'elu', 'n_units_layer_1': 25, 'dropout_rate_layer_1': 0.33153524475756824, 'actv_func_layer_1': 'elu', 'n_units_layer_2': 30, 'dropout_rate_layer_2': 0.05669160743267759, 'actv_func_layer_2': 'elu', 'optimizer': 'Adam', 'adam_lr': 0.00016183020216225112, 'epoch': 21}. Best is trial 4 with value: 0.5277976876213437.\n",
      "[I 2025-07-14 22:03:58,621] Trial 9 finished with value: 0.5186578467968972 and parameters: {'num_layers': 1, 'n_units_layer_0': 50, 'dropout_rate_layer_0': 0.20165717726348498, 'actv_func_layer_0': 'elu', 'optimizer': 'Adam', 'adam_lr': 0.0003836222227787883, 'epoch': 31}. Best is trial 4 with value: 0.5277976876213437.\n",
      "[I 2025-07-14 22:04:02,579] Trial 5 finished with value: 0.512711504774709 and parameters: {'num_layers': 2, 'n_units_layer_0': 50, 'dropout_rate_layer_0': 0.1801800268086864, 'actv_func_layer_0': 'tanh', 'n_units_layer_1': 15, 'dropout_rate_layer_1': 0.08412790143020998, 'actv_func_layer_1': 'tanh', 'optimizer': 'Adam', 'adam_lr': 0.011505107180872422, 'epoch': 31}. Best is trial 4 with value: 0.5277976876213437.\n",
      "[I 2025-07-14 22:04:05,492] Trial 6 finished with value: 0.3105585236335173 and parameters: {'num_layers': 0, 'optimizer': 'SGD', 'sgd_lr': 0.0021744716197371152, 'sgd_momentum': 0.001684618232540783, 'epoch': 32}. Best is trial 4 with value: 0.5277976876213437.\n",
      "[I 2025-07-14 22:04:31,972] Trial 3 finished with value: 0.3937798319650548 and parameters: {'num_layers': 1, 'n_units_layer_0': 10, 'dropout_rate_layer_0': 0.4833214728188513, 'actv_func_layer_0': 'relu', 'optimizer': 'SGD', 'sgd_lr': 0.007384888054314539, 'sgd_momentum': 2.6139863425538286e-05, 'epoch': 35}. Best is trial 4 with value: 0.5277976876213437.\n",
      "[I 2025-07-14 22:04:45,574] Trial 0 finished with value: 0.47975370777504783 and parameters: {'num_layers': 3, 'n_units_layer_0': 50, 'dropout_rate_layer_0': 0.4940371039168207, 'actv_func_layer_0': 'tanh', 'n_units_layer_1': 10, 'dropout_rate_layer_1': 0.17699554366168402, 'actv_func_layer_1': 'elu', 'n_units_layer_2': 50, 'dropout_rate_layer_2': 0.38870313567936127, 'actv_func_layer_2': 'elu', 'optimizer': 'Adam', 'adam_lr': 0.00016566281259501532, 'epoch': 35}. Best is trial 4 with value: 0.5277976876213437.\n",
      "[I 2025-07-14 22:04:46,853] Trial 16 finished with value: 0.47165703773498535 and parameters: {'num_layers': 0, 'optimizer': 'SGD', 'sgd_lr': 0.02370570933400502, 'sgd_momentum': 0.001702092669837429, 'epoch': 21}. Best is trial 4 with value: 0.5277976876213437.\n",
      "[I 2025-07-14 22:05:05,615] Trial 1 finished with value: 0.414790995247466 and parameters: {'num_layers': 3, 'n_units_layer_0': 15, 'dropout_rate_layer_0': 0.030811100992361395, 'actv_func_layer_0': 'tanh', 'n_units_layer_1': 25, 'dropout_rate_layer_1': 0.11410018241799402, 'actv_func_layer_1': 'relu', 'n_units_layer_2': 25, 'dropout_rate_layer_2': 0.06684270548084509, 'actv_func_layer_2': 'relu', 'optimizer': 'SGD', 'sgd_lr': 0.004803089770547445, 'sgd_momentum': 2.6021453153877026e-05, 'epoch': 38}. Best is trial 4 with value: 0.5277976876213437.\n",
      "[I 2025-07-14 22:05:24,106] Trial 8 finished with value: 0.16362403818638996 and parameters: {'num_layers': 3, 'n_units_layer_0': 10, 'dropout_rate_layer_0': 0.47777814070718894, 'actv_func_layer_0': 'relu', 'n_units_layer_1': 40, 'dropout_rate_layer_1': 0.3490263593323014, 'actv_func_layer_1': 'elu', 'n_units_layer_2': 25, 'dropout_rate_layer_2': 0.3158092103573022, 'actv_func_layer_2': 'elu', 'optimizer': 'SGD', 'sgd_lr': 0.008674999289940526, 'sgd_momentum': 0.035302195623019894, 'epoch': 40}. Best is trial 4 with value: 0.5277976876213437.\n",
      "[I 2025-07-14 22:05:27,928] Trial 15 finished with value: 0.4256917653241899 and parameters: {'num_layers': 0, 'optimizer': 'Adam', 'adam_lr': 6.188295750998755e-05, 'epoch': 41}. Best is trial 4 with value: 0.5277976876213437.\n",
      "[I 2025-07-14 22:05:48,176] Trial 10 finished with value: 0.19445031827185735 and parameters: {'num_layers': 2, 'n_units_layer_0': 25, 'dropout_rate_layer_0': 0.3994178660269718, 'actv_func_layer_0': 'relu', 'n_units_layer_1': 35, 'dropout_rate_layer_1': 0.3401482643953324, 'actv_func_layer_1': 'tanh', 'optimizer': 'SGD', 'sgd_lr': 0.003692276137896054, 'sgd_momentum': 0.00027516322216957314, 'epoch': 43}. Best is trial 4 with value: 0.5277976876213437.\n",
      "[I 2025-07-14 22:06:19,972] Trial 21 finished with value: 0.1976975876527528 and parameters: {'num_layers': 0, 'optimizer': 'SGD', 'sgd_lr': 0.0017307419147784614, 'sgd_momentum': 0.03485159252700889, 'epoch': 15}. Best is trial 4 with value: 0.5277976876213437.\n",
      "[I 2025-07-14 22:06:33,810] Trial 18 finished with value: 0.4992605767079762 and parameters: {'num_layers': 0, 'optimizer': 'SGD', 'sgd_lr': 0.04502964922742413, 'sgd_momentum': 4.316571623147018e-05, 'epoch': 28}. Best is trial 4 with value: 0.5277976876213437.\n",
      "[I 2025-07-14 22:06:35,089] Trial 14 finished with value: 0.48862606038649875 and parameters: {'num_layers': 1, 'n_units_layer_0': 50, 'dropout_rate_layer_0': 0.32588863599755313, 'actv_func_layer_0': 'relu', 'optimizer': 'SGD', 'sgd_lr': 0.014004156299231477, 'sgd_momentum': 0.00015148754731820712, 'epoch': 48}. Best is trial 4 with value: 0.5277976876213437.\n",
      "[I 2025-07-14 22:06:41,181] Trial 20 finished with value: 0.5193769221122448 and parameters: {'num_layers': 0, 'optimizer': 'Adam', 'adam_lr': 0.006497201641249183, 'epoch': 26}. Best is trial 4 with value: 0.5277976876213437.\n",
      "[I 2025-07-14 22:06:46,426] Trial 13 finished with value: 0.08420145029810314 and parameters: {'num_layers': 1, 'n_units_layer_0': 10, 'dropout_rate_layer_0': 0.3392159884334842, 'actv_func_layer_0': 'relu', 'optimizer': 'SGD', 'sgd_lr': 0.00011582393358225536, 'sgd_momentum': 1.967862858652655e-05, 'epoch': 49}. Best is trial 4 with value: 0.5277976876213437.\n",
      "[I 2025-07-14 22:06:51,108] Trial 17 finished with value: 0.08874866180121899 and parameters: {'num_layers': 1, 'n_units_layer_0': 50, 'dropout_rate_layer_0': 0.36337699949071356, 'actv_func_layer_0': 'tanh', 'optimizer': 'SGD', 'sgd_lr': 0.0006129869502183709, 'sgd_momentum': 0.0005878473936855898, 'epoch': 30}. Best is trial 4 with value: 0.5277976876213437.\n",
      "[I 2025-07-14 22:08:22,183] Trial 19 finished with value: 0.027664940926785533 and parameters: {'num_layers': 1, 'n_units_layer_0': 30, 'dropout_rate_layer_0': 0.2695417203967587, 'actv_func_layer_0': 'relu', 'optimizer': 'SGD', 'sgd_lr': 0.00010920448636864949, 'sgd_momentum': 0.0003391702460881408, 'epoch': 38}. Best is trial 4 with value: 0.5277976876213437.\n",
      "[I 2025-07-14 22:09:20,444] Trial 23 finished with value: 0.5151725632529105 and parameters: {'num_layers': 2, 'n_units_layer_0': 30, 'dropout_rate_layer_0': 0.13014178784719016, 'actv_func_layer_0': 'tanh', 'n_units_layer_1': 30, 'dropout_rate_layer_1': 0.0976001476162715, 'actv_func_layer_1': 'elu', 'optimizer': 'Adam', 'adam_lr': 0.0001439049007895018, 'epoch': 31}. Best is trial 4 with value: 0.5277976876213437.\n",
      "[I 2025-07-14 22:10:07,097] Trial 28 finished with value: 0.5422190692689683 and parameters: {'num_layers': 1, 'n_units_layer_0': 35, 'dropout_rate_layer_0': 0.3336669308935208, 'actv_func_layer_0': 'elu', 'optimizer': 'Adam', 'adam_lr': 0.001637909551062068, 'epoch': 27}. Best is trial 28 with value: 0.5422190692689683.\n",
      "[I 2025-07-14 22:10:48,109] Trial 24 finished with value: 0.0012142009024197857 and parameters: {'num_layers': 3, 'n_units_layer_0': 30, 'dropout_rate_layer_0': 0.2962104060715746, 'actv_func_layer_0': 'tanh', 'n_units_layer_1': 20, 'dropout_rate_layer_1': 0.28551973792139146, 'actv_func_layer_1': 'tanh', 'n_units_layer_2': 45, 'dropout_rate_layer_2': 0.08570352037607781, 'actv_func_layer_2': 'relu', 'optimizer': 'SGD', 'sgd_lr': 8.11604928707829e-05, 'sgd_momentum': 0.0017027027199020594, 'epoch': 36}. Best is trial 28 with value: 0.5422190692689683.\n",
      "[I 2025-07-14 22:11:18,197] Trial 34 finished with value: 0.5433507776260376 and parameters: {'num_layers': 2, 'n_units_layer_0': 35, 'dropout_rate_layer_0': 0.12278721870597598, 'actv_func_layer_0': 'elu', 'n_units_layer_1': 50, 'dropout_rate_layer_1': 0.4995056126723882, 'actv_func_layer_1': 'elu', 'optimizer': 'Adam', 'adam_lr': 0.006020972628463364, 'epoch': 25}. Best is trial 34 with value: 0.5433507776260376.\n",
      "[I 2025-07-14 22:11:22,781] Trial 35 finished with value: 0.5259266817569732 and parameters: {'num_layers': 2, 'n_units_layer_0': 35, 'dropout_rate_layer_0': 0.11276501772980138, 'actv_func_layer_0': 'elu', 'n_units_layer_1': 50, 'dropout_rate_layer_1': 0.48396524000803154, 'actv_func_layer_1': 'elu', 'optimizer': 'Adam', 'adam_lr': 0.005839034286483582, 'epoch': 25}. Best is trial 34 with value: 0.5433507776260376.\n",
      "[I 2025-07-14 22:11:27,900] Trial 36 finished with value: 0.5426030039787293 and parameters: {'num_layers': 2, 'n_units_layer_0': 40, 'dropout_rate_layer_0': 0.13374640380075897, 'actv_func_layer_0': 'elu', 'n_units_layer_1': 50, 'dropout_rate_layer_1': 0.4800048699930611, 'actv_func_layer_1': 'elu', 'optimizer': 'Adam', 'adam_lr': 0.0027395682536726063, 'epoch': 25}. Best is trial 34 with value: 0.5433507776260376.\n",
      "[I 2025-07-14 22:12:05,185] Trial 33 finished with value: 0.5550750310604389 and parameters: {'num_layers': 2, 'n_units_layer_0': 40, 'dropout_rate_layer_0': 0.11277596752000671, 'actv_func_layer_0': 'elu', 'n_units_layer_1': 50, 'dropout_rate_layer_1': 0.498292857226806, 'actv_func_layer_1': 'elu', 'optimizer': 'Adam', 'adam_lr': 0.0020624961352512863, 'epoch': 26}. Best is trial 33 with value: 0.5550750310604389.\n",
      "[I 2025-07-14 22:12:23,773] Trial 22 finished with value: 0.45721585759702993 and parameters: {'num_layers': 0, 'optimizer': 'SGD', 'sgd_lr': 0.008587453999402245, 'sgd_momentum': 0.00010909110169439214, 'epoch': 49}. Best is trial 33 with value: 0.5550750310604389.\n",
      "[I 2025-07-14 22:13:02,426] Trial 37 finished with value: 0.5240951955318451 and parameters: {'num_layers': 2, 'n_units_layer_0': 40, 'dropout_rate_layer_0': 0.1255780040284385, 'actv_func_layer_0': 'elu', 'n_units_layer_1': 50, 'dropout_rate_layer_1': 0.490007512445498, 'actv_func_layer_1': 'elu', 'optimizer': 'Adam', 'adam_lr': 0.0054265427627535005, 'epoch': 25}. Best is trial 33 with value: 0.5550750310604389.\n",
      "[I 2025-07-14 22:13:25,282] Trial 25 finished with value: 0.539693724744174 and parameters: {'num_layers': 2, 'n_units_layer_0': 30, 'dropout_rate_layer_0': 0.005208734030542506, 'actv_func_layer_0': 'elu', 'n_units_layer_1': 45, 'dropout_rate_layer_1': 0.4395577625637372, 'actv_func_layer_1': 'elu', 'optimizer': 'Adam', 'adam_lr': 0.004096629032955002, 'epoch': 49}. Best is trial 33 with value: 0.5550750310604389.\n",
      "[I 2025-07-14 22:13:38,481] Trial 26 finished with value: 0.5252470988035202 and parameters: {'num_layers': 2, 'n_units_layer_0': 35, 'dropout_rate_layer_0': 0.015343162137952948, 'actv_func_layer_0': 'elu', 'n_units_layer_1': 50, 'dropout_rate_layer_1': 0.4303670471685703, 'actv_func_layer_1': 'elu', 'optimizer': 'Adam', 'adam_lr': 0.0009468336966107651, 'epoch': 50}. Best is trial 33 with value: 0.5550750310604389.\n",
      "[I 2025-07-14 22:14:00,929] Trial 27 finished with value: 0.5566157603263855 and parameters: {'num_layers': 2, 'n_units_layer_0': 35, 'dropout_rate_layer_0': 0.2977852254150325, 'actv_func_layer_0': 'elu', 'n_units_layer_1': 50, 'dropout_rate_layer_1': 0.4102921565755117, 'actv_func_layer_1': 'elu', 'optimizer': 'Adam', 'adam_lr': 0.0015451600475957505, 'epoch': 50}. Best is trial 27 with value: 0.5566157603263855.\n",
      "[I 2025-07-14 22:14:01,839] Trial 38 finished with value: 0.5127392482757568 and parameters: {'num_layers': 2, 'n_units_layer_0': 40, 'dropout_rate_layer_0': 0.013258988494448492, 'actv_func_layer_0': 'elu', 'n_units_layer_1': 50, 'dropout_rate_layer_1': 0.4960271296299754, 'actv_func_layer_1': 'elu', 'optimizer': 'Adam', 'adam_lr': 0.0032908367635169056, 'epoch': 25}. Best is trial 27 with value: 0.5566157603263855.\n",
      "[I 2025-07-14 22:14:25,280] Trial 29 finished with value: 0.54486667573452 and parameters: {'num_layers': 2, 'n_units_layer_0': 35, 'dropout_rate_layer_0': 0.30987405773947146, 'actv_func_layer_0': 'elu', 'n_units_layer_1': 50, 'dropout_rate_layer_1': 0.4794769226879312, 'actv_func_layer_1': 'tanh', 'optimizer': 'Adam', 'adam_lr': 0.0014816192162719621, 'epoch': 50}. Best is trial 27 with value: 0.5566157603263855.\n",
      "[I 2025-07-14 22:14:39,575] Trial 30 finished with value: 0.5345871388912201 and parameters: {'num_layers': 1, 'n_units_layer_0': 40, 'dropout_rate_layer_0': 0.30331176671448506, 'actv_func_layer_0': 'elu', 'optimizer': 'Adam', 'adam_lr': 0.001728131899076321, 'epoch': 50}. Best is trial 27 with value: 0.5566157603263855.\n",
      "[I 2025-07-14 22:14:53,788] Trial 39 finished with value: 0.5151377326020827 and parameters: {'num_layers': 2, 'n_units_layer_0': 40, 'dropout_rate_layer_0': 0.26997969566613433, 'actv_func_layer_0': 'elu', 'n_units_layer_1': 50, 'dropout_rate_layer_1': 0.4996166678252169, 'actv_func_layer_1': 'elu', 'optimizer': 'Adam', 'adam_lr': 0.0043774014611696445, 'epoch': 26}. Best is trial 27 with value: 0.5566157603263855.\n",
      "[I 2025-07-14 22:15:01,990] Trial 31 finished with value: 0.5473677090236119 and parameters: {'num_layers': 1, 'n_units_layer_0': 40, 'dropout_rate_layer_0': 0.2997167886307883, 'actv_func_layer_0': 'elu', 'optimizer': 'Adam', 'adam_lr': 0.0020866902862186967, 'epoch': 49}. Best is trial 27 with value: 0.5566157603263855.\n",
      "[I 2025-07-14 22:15:09,571] Trial 32 finished with value: 0.5459228206653984 and parameters: {'num_layers': 1, 'n_units_layer_0': 40, 'dropout_rate_layer_0': 0.2908094228943959, 'actv_func_layer_0': 'elu', 'optimizer': 'Adam', 'adam_lr': 0.0016198110383040167, 'epoch': 49}. Best is trial 27 with value: 0.5566157603263855.\n",
      "[I 2025-07-14 22:15:12,280] Trial 40 finished with value: 0.547338285446167 and parameters: {'num_layers': 2, 'n_units_layer_0': 40, 'dropout_rate_layer_0': 0.014715768941702463, 'actv_func_layer_0': 'elu', 'n_units_layer_1': 50, 'dropout_rate_layer_1': 0.47977528505560435, 'actv_func_layer_1': 'elu', 'optimizer': 'Adam', 'adam_lr': 0.00421739268477317, 'epoch': 25}. Best is trial 27 with value: 0.5566157603263855.\n",
      "[I 2025-07-14 22:15:18,499] Trial 42 finished with value: 0.5363864380380382 and parameters: {'num_layers': 2, 'n_units_layer_0': 40, 'dropout_rate_layer_0': 0.001726996538723602, 'actv_func_layer_0': 'elu', 'n_units_layer_1': 50, 'dropout_rate_layer_1': 0.49672320368529777, 'actv_func_layer_1': 'elu', 'optimizer': 'Adam', 'adam_lr': 0.001461915964999279, 'epoch': 23}. Best is trial 27 with value: 0.5566157603263855.\n",
      "[I 2025-07-14 22:15:22,016] Trial 41 finished with value: 0.5573793289562067 and parameters: {'num_layers': 2, 'n_units_layer_0': 40, 'dropout_rate_layer_0': 0.018129944380239387, 'actv_func_layer_0': 'elu', 'n_units_layer_1': 45, 'dropout_rate_layer_1': 0.48471631771715173, 'actv_func_layer_1': 'elu', 'optimizer': 'Adam', 'adam_lr': 0.001991827840760064, 'epoch': 24}. Best is trial 41 with value: 0.5573793289562067.\n",
      "[I 2025-07-14 22:15:26,011] Trial 43 finished with value: 0.5487331015368303 and parameters: {'num_layers': 2, 'n_units_layer_0': 40, 'dropout_rate_layer_0': 0.2327453580520145, 'actv_func_layer_0': 'elu', 'n_units_layer_1': 50, 'dropout_rate_layer_1': 0.485593130894059, 'actv_func_layer_1': 'elu', 'optimizer': 'Adam', 'adam_lr': 0.001755597902045681, 'epoch': 24}. Best is trial 41 with value: 0.5573793289562067.\n",
      "[I 2025-07-14 22:15:39,090] Trial 44 finished with value: 0.0709831068913142 and parameters: {'num_layers': 2, 'n_units_layer_0': 40, 'dropout_rate_layer_0': 0.11944910516255428, 'actv_func_layer_0': 'elu', 'n_units_layer_1': 50, 'dropout_rate_layer_1': 0.4993416568717782, 'actv_func_layer_1': 'elu', 'optimizer': 'Adam', 'adam_lr': 0.06011835394369301, 'epoch': 24}. Best is trial 41 with value: 0.5573793289562067.\n",
      "[I 2025-07-14 22:15:44,687] Trial 45 finished with value: 0.5331594496965408 and parameters: {'num_layers': 2, 'n_units_layer_0': 40, 'dropout_rate_layer_0': 0.12592852803922072, 'actv_func_layer_0': 'elu', 'n_units_layer_1': 50, 'dropout_rate_layer_1': 0.4840704031003515, 'actv_func_layer_1': 'elu', 'optimizer': 'Adam', 'adam_lr': 0.0017982745381816395, 'epoch': 24}. Best is trial 41 with value: 0.5573793289562067.\n",
      "[I 2025-07-14 22:15:50,510] Trial 46 finished with value: 0.5367574549239614 and parameters: {'num_layers': 2, 'n_units_layer_0': 35, 'dropout_rate_layer_0': 0.2327872217383411, 'actv_func_layer_0': 'elu', 'n_units_layer_1': 45, 'dropout_rate_layer_1': 0.4463161509742882, 'actv_func_layer_1': 'elu', 'optimizer': 'Adam', 'adam_lr': 0.0015691889537311327, 'epoch': 23}. Best is trial 41 with value: 0.5573793289562067.\n",
      "[I 2025-07-14 22:15:53,904] Trial 47 finished with value: 0.5461190925992053 and parameters: {'num_layers': 2, 'n_units_layer_0': 35, 'dropout_rate_layer_0': 0.07849280896972831, 'actv_func_layer_0': 'elu', 'n_units_layer_1': 45, 'dropout_rate_layer_1': 0.41614621707686017, 'actv_func_layer_1': 'elu', 'optimizer': 'Adam', 'adam_lr': 0.0010492004685768053, 'epoch': 23}. Best is trial 41 with value: 0.5573793289562067.\n",
      "[I 2025-07-14 22:15:55,305] Trial 48 finished with value: 0.11118505182473556 and parameters: {'num_layers': 2, 'n_units_layer_0': 45, 'dropout_rate_layer_0': 0.23137530164515757, 'actv_func_layer_0': 'elu', 'n_units_layer_1': 40, 'dropout_rate_layer_1': 0.4132485286907374, 'actv_func_layer_1': 'elu', 'optimizer': 'Adam', 'adam_lr': 0.042525486451368756, 'epoch': 23}. Best is trial 41 with value: 0.5573793289562067.\n",
      "[I 2025-07-14 22:15:56,690] Trial 49 finished with value: 0.19225887759872104 and parameters: {'num_layers': 2, 'n_units_layer_0': 45, 'dropout_rate_layer_0': 0.23998306274814835, 'actv_func_layer_0': 'elu', 'n_units_layer_1': 45, 'dropout_rate_layer_1': 0.419006691405582, 'actv_func_layer_1': 'elu', 'optimizer': 'Adam', 'adam_lr': 0.034109005420337235, 'epoch': 23}. Best is trial 41 with value: 0.5573793289562067.\n"
     ]
    }
   ],
   "source": [
    "study.optimize(lambda trial: objective(trial, df_train),\n",
    "               n_trials=50, n_jobs=-1,\n",
    "              )"
   ]
  },
  {
   "cell_type": "code",
   "execution_count": 52,
   "metadata": {
    "cell_id": "e39eab47d8e146e78132a2f9850ef264",
    "deepnote_cell_type": "code",
    "execution_context_id": "6c1cb364-c279-4efc-a80f-ed87d183dd22",
    "execution_millis": 0,
    "execution_start": 1752531700591,
    "source_hash": "ddbd82b8"
   },
   "outputs": [
    {
     "name": "stdout",
     "output_type": "stream",
     "text": [
      "Best Trial:\n",
      "    Value:  0.5573793289562067\n",
      "    Hyperparameters: \n",
      "        num_layers: 2\n",
      "        n_units_layer_0: 40\n",
      "        dropout_rate_layer_0: 0.018129944380239387\n",
      "        actv_func_layer_0: elu\n",
      "        n_units_layer_1: 45\n",
      "        dropout_rate_layer_1: 0.48471631771715173\n",
      "        actv_func_layer_1: elu\n",
      "        optimizer: Adam\n",
      "        adam_lr: 0.001991827840760064\n",
      "        epoch: 24\n"
     ]
    }
   ],
   "source": [
    "print(\"Best Trial:\")\n",
    "best_trial = study.best_trial\n",
    "\n",
    "print(\"    Value: \", best_trial.value)\n",
    "\n",
    "print(\"    Hyperparameters: \")\n",
    "for key, value in best_trial.params.items():\n",
    "    print(f\"        {key}: {value}\")"
   ]
  },
  {
   "cell_type": "code",
   "execution_count": 55,
   "metadata": {
    "cell_id": "424281cadf6344168b3b91365ff3c57d",
    "deepnote_cell_type": "code",
    "execution_context_id": "6c1cb364-c279-4efc-a80f-ed87d183dd22",
    "execution_millis": 2,
    "execution_start": 1752531705237,
    "source_hash": "be3881f7"
   },
   "outputs": [
    {
     "data": {
      "text/plain": [
       "{'num_layers': 2,\n",
       " 'n_units_layer_0': 40,\n",
       " 'dropout_rate_layer_0': 0.018129944380239387,\n",
       " 'actv_func_layer_0': 'elu',\n",
       " 'n_units_layer_1': 45,\n",
       " 'dropout_rate_layer_1': 0.48471631771715173,\n",
       " 'actv_func_layer_1': 'elu',\n",
       " 'optimizer': 'Adam',\n",
       " 'adam_lr': 0.001991827840760064,\n",
       " 'epoch': 24}"
      ]
     },
     "execution_count": 55,
     "metadata": {},
     "output_type": "execute_result"
    }
   ],
   "source": [
    "best_trial.params"
   ]
  },
  {
   "cell_type": "code",
   "execution_count": 58,
   "metadata": {
    "cell_id": "ff868a0647704267a8f94389dde84ef9",
    "deepnote_cell_type": "code",
    "execution_context_id": "6c1cb364-c279-4efc-a80f-ed87d183dd22",
    "execution_millis": 18161,
    "execution_start": 1752531710866,
    "source_hash": "6a142df3"
   },
   "outputs": [
    {
     "name": "stdout",
     "output_type": "stream",
     "text": [
      "Epoch 1/24\n",
      "636/636 [==============================] - 2s 1ms/step - loss: 0.2445 - f1_m: 0.4076\n",
      "Epoch 2/24\n",
      "636/636 [==============================] - 1s 1ms/step - loss: 0.2179 - f1_m: 0.4887\n",
      "Epoch 3/24\n",
      "636/636 [==============================] - 1s 1ms/step - loss: 0.2102 - f1_m: 0.4967\n",
      "Epoch 4/24\n",
      "636/636 [==============================] - 1s 1ms/step - loss: 0.2051 - f1_m: 0.5266\n",
      "Epoch 5/24\n",
      "636/636 [==============================] - 1s 1ms/step - loss: 0.2013 - f1_m: 0.5391\n",
      "Epoch 6/24\n",
      "636/636 [==============================] - 1s 1ms/step - loss: 0.1983 - f1_m: 0.5465\n",
      "Epoch 7/24\n",
      "636/636 [==============================] - 1s 1ms/step - loss: 0.1966 - f1_m: 0.5498\n",
      "Epoch 8/24\n",
      "636/636 [==============================] - 1s 1ms/step - loss: 0.1942 - f1_m: 0.5615\n",
      "Epoch 9/24\n",
      "636/636 [==============================] - 1s 1ms/step - loss: 0.1914 - f1_m: 0.5604\n",
      "Epoch 10/24\n",
      "636/636 [==============================] - 1s 1ms/step - loss: 0.1901 - f1_m: 0.5669\n",
      "Epoch 11/24\n",
      "636/636 [==============================] - 1s 1ms/step - loss: 0.1895 - f1_m: 0.5736\n",
      "Epoch 12/24\n",
      "636/636 [==============================] - 1s 1ms/step - loss: 0.1874 - f1_m: 0.5752\n",
      "Epoch 13/24\n",
      "636/636 [==============================] - 1s 1ms/step - loss: 0.1855 - f1_m: 0.5809\n",
      "Epoch 14/24\n",
      "636/636 [==============================] - 1s 1ms/step - loss: 0.1841 - f1_m: 0.5856\n",
      "Epoch 15/24\n",
      "636/636 [==============================] - 1s 1ms/step - loss: 0.1841 - f1_m: 0.5854\n",
      "Epoch 16/24\n",
      "636/636 [==============================] - 1s 1ms/step - loss: 0.1822 - f1_m: 0.5981\n",
      "Epoch 17/24\n",
      "636/636 [==============================] - 1s 1ms/step - loss: 0.1818 - f1_m: 0.5822\n",
      "Epoch 18/24\n",
      "636/636 [==============================] - 1s 1ms/step - loss: 0.1802 - f1_m: 0.6008\n",
      "Epoch 19/24\n",
      "636/636 [==============================] - 1s 1ms/step - loss: 0.1791 - f1_m: 0.5929\n",
      "Epoch 20/24\n",
      "636/636 [==============================] - 1s 1ms/step - loss: 0.1782 - f1_m: 0.6022\n",
      "Epoch 21/24\n",
      "636/636 [==============================] - 1s 1ms/step - loss: 0.1777 - f1_m: 0.5982\n",
      "Epoch 22/24\n",
      "636/636 [==============================] - 1s 1ms/step - loss: 0.1779 - f1_m: 0.6049\n",
      "Epoch 23/24\n",
      "636/636 [==============================] - 1s 1ms/step - loss: 0.1761 - f1_m: 0.6098\n",
      "Epoch 24/24\n",
      "636/636 [==============================] - 1s 1ms/step - loss: 0.1757 - f1_m: 0.6030\n",
      "142/142 [==============================] - 0s 671us/step\n",
      "====================================================================================================\n",
      "F1-Score on Test Data: 0.5915221579961464\n"
     ]
    }
   ],
   "source": [
    "train_and_evaluate_final(df_train, df_test, **best_trial.params)"
   ]
  },
  {
   "cell_type": "code",
   "execution_count": null,
   "metadata": {
    "cell_id": "08a1669978504b19ab358a44ef712cd2",
    "deepnote_cell_type": "code"
   },
   "outputs": [],
   "source": []
  },
  {
   "cell_type": "markdown",
   "metadata": {
    "created_in_deepnote_cell": true,
    "deepnote_cell_type": "markdown"
   },
   "source": [
    "<a style='text-decoration:none;line-height:16px;display:flex;color:#5B5B62;padding:10px;justify-content:end;' href='https://deepnote.com?utm_source=created-in-deepnote-cell&projectId=b0bd6d5e-ce51-4cdb-a0ff-8c5849b40992' target=\"_blank\">\n",
    "<img alt='Created in deepnote.com' style='display:inline;max-height:16px;margin:0px;margin-right:7.5px;' src='data:image/svg+xml;base64,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' > </img>\n",
    "Created in <span style='font-weight:600;margin-left:4px;'>Deepnote</span></a>"
   ]
  }
 ],
 "metadata": {
  "deepnote_notebook_id": "c4548550a41b41019921d15696c774cf",
  "kernelspec": {
   "display_name": "Python 3 (ipykernel)",
   "language": "python",
   "name": "python3"
  },
  "language_info": {
   "codemirror_mode": {
    "name": "ipython",
    "version": 3
   },
   "file_extension": ".py",
   "mimetype": "text/x-python",
   "name": "python",
   "nbconvert_exporter": "python",
   "pygments_lexer": "ipython3",
   "version": "3.10.18"
  }
 },
 "nbformat": 4,
 "nbformat_minor": 4
}
