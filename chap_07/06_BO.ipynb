{
 "cells": [
  {
   "cell_type": "markdown",
   "id": "b8f148ac-febc-4fe5-a1de-fa8df0e006c6",
   "metadata": {},
   "source": [
    "# Hyperparameter Tuning via Scikit-Learn\n",
    "\n",
    "## Bayesian Optimization Gaussian Process\n",
    "\n",
    "### Loading Libraries"
   ]
  },
  {
   "cell_type": "code",
   "execution_count": 12,
   "id": "65ff4ac0-9211-4fab-8452-8fe446bf3ec8",
   "metadata": {},
   "outputs": [],
   "source": [
    "# Numerical Computing\n",
    "import numpy as np\n",
    "\n",
    "# Data Manipulation\n",
    "import pandas as pd\n",
    "\n",
    "# Data Visualization\n",
    "import matplotlib.pyplot as plt\n",
    "\n",
    "# StatsModel\n",
    "import scipy\n",
    "from scipy.stats import randint,truncnorm\n",
    "\n",
    "# Scikit-Learn Optimization\n",
    "from skopt.space import *\n",
    "from skopt import BayesSearchCV\n",
    "\n",
    "# Scikit-Learn\n",
    "from sklearn.base import clone\n",
    "from sklearn.pipeline import Pipeline\n",
    "from sklearn.impute import SimpleImputer\n",
    "from sklearn.compose import ColumnTransformer\n",
    "from sklearn.metrics import f1_score, make_scorer\n",
    "from sklearn.ensemble import RandomForestClassifier\n",
    "from sklearn.preprocessing import StandardScaler, OneHotEncoder\n",
    "from sklearn.model_selection import ParameterSampler, cross_val_score\n",
    "from sklearn.model_selection import train_test_split, GridSearchCV, RandomizedSearchCV"
   ]
  },
  {
   "cell_type": "code",
   "execution_count": 13,
   "id": "b4d7d045-487d-4c98-88e9-72a4d07381e6",
   "metadata": {},
   "outputs": [],
   "source": [
    "from sklearn.pipeline import Pipeline as Sklearn_Pipeline"
   ]
  },
  {
   "cell_type": "code",
   "execution_count": 29,
   "id": "67b18c11-d4e6-454c-958d-a6cd786ff71c",
   "metadata": {},
   "outputs": [],
   "source": [
    "class NormalizeTransform:\n",
    "    def __init__(self, low, high):\n",
    "        self.low = low\n",
    "        self.high = high\n",
    "\n",
    "    def transform(self, x):\n",
    "        return (np.array(x) - self.low) / (self.high - self.low)\n",
    "\n",
    "    def inverse_transform(self, x):\n",
    "        return self.low + np.array(x) * (self.high - self.low)"
   ]
  },
  {
   "cell_type": "code",
   "execution_count": 30,
   "id": "62c7d9df-e0f1-4d7a-9c0b-5ff566a5a062",
   "metadata": {},
   "outputs": [],
   "source": [
    "class Real(Dimension):\n",
    "    \"\"\"Search space dimension that can take on any real value.\"\"\"\n",
    "\n",
    "    def __init__(self, low, high, prior=\"uniform\", base=10, transform=None,\n",
    "                 name=None, dtype=float, **kwargs):\n",
    "        if high <= low:\n",
    "            raise ValueError(f\"the lower bound {low} has to be less than the upper bound {high}\")\n",
    "        \n",
    "        self.low = low\n",
    "        self.high = high\n",
    "        self.prior = prior\n",
    "        self.base = base\n",
    "        self.log_base = np.log10(base)\n",
    "        self.name = name\n",
    "        self.dtype = dtype\n",
    "        self._rvs = None\n",
    "        self.transformer = None\n",
    "        self.transform_ = transform\n",
    "        self.kwargs = kwargs\n",
    "\n",
    "        # Validar dtype\n",
    "        if isinstance(self.dtype, str) and self.dtype not in ['float', 'float16', 'float32', 'float64']:\n",
    "            raise ValueError(f\"dtype must be 'float', 'float16', 'float32' or 'float64'; got {self.dtype}\")\n",
    "        elif isinstance(self.dtype, type) and self.dtype not in [float, np.float16, np.float32, np.float64]:\n",
    "            raise ValueError(f\"dtype must be float, np.float16/32/64; got {self.dtype}\")\n",
    "\n",
    "        if transform is None:\n",
    "            transform = \"identity\"\n",
    "        self.set_transformer(transform)\n",
    "\n",
    "    def set_transformer(self, transform=\"identity\"):\n",
    "        # self.transform_ = transform\n",
    "        self.transformer = NormalizeTransform(self.low, self.high)\n",
    "\n",
    "        if self.transform_ not in [\"normalize\", \"identity\"]:\n",
    "            raise ValueError(f\"transform should be 'normalize' or 'identity'; got {self.transform_}\")\n",
    "\n",
    "        if self.transform_ == \"normalize\":\n",
    "            self._rvs = _uniform_inclusive(0., 1.)\n",
    "            if self.prior == \"uniform\":\n",
    "                self.transformer = Pipeline([Identity(), Normalize(self.low, self.high)])\n",
    "            elif self.prior == \"log-uniform\":\n",
    "                self.transformer = Pipeline([\n",
    "                    LogN(self.base),\n",
    "                    Normalize(np.log10(self.low) / self.log_base,\n",
    "                              np.log10(self.high) / self.log_base)\n",
    "                ])\n",
    "            else:  # truncnorm\n",
    "                self.transformer = Pipeline([Identity(), Normalize(self.low + 1e-6, self.high)])\n",
    "        else:\n",
    "            if self.prior == \"uniform\":\n",
    "                self._rvs = _uniform_inclusive(self.low, self.high - self.low)\n",
    "                self.transformer = Identity()\n",
    "            elif self.prior == \"log-uniform\":\n",
    "                self._rvs = _uniform_inclusive(\n",
    "                    np.log10(self.low) / self.log_base,\n",
    "                    np.log10(self.high) / self.log_base - np.log10(self.low) / self.log_base)\n",
    "                self.transformer = LogN(self.base)\n",
    "            else:  # truncnorm\n",
    "                self._rvs = truncnorm(\n",
    "                    a=self.low,\n",
    "                    b=self.high,\n",
    "                    loc=self.kwargs.get(\"loc\", (self.low + self.high) / 2),\n",
    "                    scale=self.kwargs.get(\"scale\", (self.high - self.low) / 2)\n",
    "                )\n",
    "                self.transformer = Identity()\n",
    "\n",
    "    def __eq__(self, other):\n",
    "        return (type(self) is type(other) and\n",
    "                np.allclose([self.low], [other.low]) and\n",
    "                np.allclose([self.high], [other.high]) and\n",
    "                self.prior == other.prior and\n",
    "                self.transform_ == other.transform_)\n",
    "\n",
    "    def __repr__(self):\n",
    "        return f\"Real(low={self.low}, high={self.high}, prior='{self.prior}', transform='{self.transform_}')\"\n",
    "\n",
    "    def inverse_transform(self, Xt):\n",
    "        inv_transform = super(Real, self).inverse_transform(Xt)\n",
    "        if isinstance(inv_transform, list):\n",
    "            inv_transform = np.array(inv_transform)\n",
    "        inv_transform = np.clip(inv_transform, self.low, self.high).astype(self.dtype)\n",
    "        return inv_transform.tolist() if self.dtype == float or self.dtype == 'float' else inv_transform\n",
    "\n",
    "    @property\n",
    "    def bounds(self):\n",
    "        return (self.low, self.high)\n",
    "\n",
    "    @property\n",
    "    def is_constant(self):\n",
    "        return self.low == self.high\n",
    "\n",
    "    def __contains__(self, point):\n",
    "        if isinstance(point, list):\n",
    "            point = np.array(point)\n",
    "        return self.low <= point <= self.high\n",
    "\n",
    "    @property\n",
    "    def transformed_bounds(self):\n",
    "        if self.transform_ == \"normalize\":\n",
    "            return (0.0, 1.0)\n",
    "        else:\n",
    "            if self.prior in [\"uniform\", \"truncnorm\"]:\n",
    "                return (self.low, self.high)\n",
    "            else:  # log-uniform\n",
    "                return (np.log10(self.low), np.log10(self.high))\n",
    "\n",
    "    def distance(self, a, b):\n",
    "        if not (a in self and b in self):\n",
    "            raise RuntimeError(f\"Can only compute distance for values within the space, not {a} and {b}.\")\n",
    "        return abs(a - b)\n",
    "\n",
    "# Aux Function\n",
    "def _uniform_inclusive(loc=0.0, scale=1.0):\n",
    "    return uniform(loc=loc, scale=np.nextafter(scale, scale + 1.0))"
   ]
  },
  {
   "cell_type": "markdown",
   "id": "fa22c7bb-0a34-4087-91c8-0ae85ac8bd6c",
   "metadata": {},
   "source": [
    "### Loading Data"
   ]
  },
  {
   "cell_type": "code",
   "execution_count": 15,
   "id": "22af5705-e542-4fa4-be9d-d167e340f8d4",
   "metadata": {},
   "outputs": [],
   "source": [
    "df = pd.read_csv(\"/Users/joaquinromero/Desktop/HPTP/data/train.csv\", sep=\";\")"
   ]
  },
  {
   "cell_type": "code",
   "execution_count": 16,
   "id": "881a9d96-ac8b-41dd-a99e-629f437a46af",
   "metadata": {},
   "outputs": [],
   "source": [
    "df['y'] = df['y'].map({'yes':1,'no':0})"
   ]
  },
  {
   "cell_type": "markdown",
   "id": "bf937778-f3ef-4e05-a030-1da3dff22bba",
   "metadata": {},
   "source": [
    "### Train/Test Split"
   ]
  },
  {
   "cell_type": "code",
   "execution_count": 17,
   "id": "aab6d858-6a8d-4e64-9bee-44ed94661745",
   "metadata": {},
   "outputs": [],
   "source": [
    "df_train, df_test = train_test_split(df, test_size=0.1, random_state=0) "
   ]
  },
  {
   "cell_type": "markdown",
   "id": "509c3b9d-63b9-488b-b47b-6552ef17ecd1",
   "metadata": {},
   "source": [
    "#### Placing Numerical Features"
   ]
  },
  {
   "cell_type": "code",
   "execution_count": 18,
   "id": "12527a41-0cb7-46b3-be36-9d95a11b1c69",
   "metadata": {},
   "outputs": [],
   "source": [
    "numerical_feats = list(df_train.drop(columns='y').select_dtypes(include=np.number).columns)"
   ]
  },
  {
   "cell_type": "markdown",
   "id": "ff4556de-54ff-401f-b78e-7ff1cf6eba95",
   "metadata": {},
   "source": [
    "#### Placing Categorical Features"
   ]
  },
  {
   "cell_type": "code",
   "execution_count": 19,
   "id": "cc83961c-af27-459a-adb5-44a2402fb45a",
   "metadata": {},
   "outputs": [],
   "source": [
    "categorical_feats = list(df_train.drop(columns='y').select_dtypes(exclude=np.number).columns)"
   ]
  },
  {
   "cell_type": "markdown",
   "id": "e93e6970-dd67-4874-8f2f-f43c1e0d936c",
   "metadata": {},
   "source": [
    "### Pre-Processor"
   ]
  },
  {
   "cell_type": "code",
   "execution_count": 20,
   "id": "b43c2d16-09be-4ecc-902e-e23b060e6392",
   "metadata": {},
   "outputs": [],
   "source": [
    "# Normalization Pre-processing for Numerical Features\n",
    "numeric_preprocessor = StandardScaler()\n",
    "\n",
    "# One-Hot-Encoding Pre-processing for Categorical Features\n",
    "categorical_preprocessor = OneHotEncoder(handle_unknown=\"ignore\")"
   ]
  },
  {
   "cell_type": "code",
   "execution_count": 21,
   "id": "e297eab7-3bce-4dc2-9a81-23fea1a85615",
   "metadata": {},
   "outputs": [],
   "source": [
    "preprocessor = ColumnTransformer(\n",
    "    transformers=[\n",
    "        (\"num\", numeric_preprocessor, numerical_feats),\n",
    "        (\"cat\", categorical_preprocessor, categorical_feats),\n",
    "    ]\n",
    ")"
   ]
  },
  {
   "cell_type": "markdown",
   "id": "96bfeaf4-b4af-4d62-967d-950fd9718c34",
   "metadata": {},
   "source": [
    "### Pipeline"
   ]
  },
  {
   "cell_type": "code",
   "execution_count": 22,
   "id": "a2bbf31a-ffa4-489a-a4a1-524452c2d653",
   "metadata": {},
   "outputs": [],
   "source": [
    "pipe = Pipeline(\n",
    "    steps=[(\"preprocessor\", preprocessor), \n",
    "           (\"model\", RandomForestClassifier(random_state=0))]\n",
    ")"
   ]
  },
  {
   "cell_type": "markdown",
   "id": "4f30301c-1aa3-438a-aadb-96ca0f793534",
   "metadata": {},
   "source": [
    "#### Placing All Features for Training Set"
   ]
  },
  {
   "cell_type": "code",
   "execution_count": 23,
   "id": "051f436a-4529-4c7e-a75d-556b1cfa94a5",
   "metadata": {},
   "outputs": [
    {
     "name": "stdout",
     "output_type": "stream",
     "text": [
      "<class 'pandas.core.frame.DataFrame'>\n",
      "Index: 40689 entries, 17974 to 2732\n",
      "Data columns (total 16 columns):\n",
      " #   Column     Non-Null Count  Dtype \n",
      "---  ------     --------------  ----- \n",
      " 0   age        40689 non-null  int64 \n",
      " 1   job        40689 non-null  object\n",
      " 2   marital    40689 non-null  object\n",
      " 3   education  40689 non-null  object\n",
      " 4   default    40689 non-null  object\n",
      " 5   balance    40689 non-null  int64 \n",
      " 6   housing    40689 non-null  object\n",
      " 7   loan       40689 non-null  object\n",
      " 8   contact    40689 non-null  object\n",
      " 9   day        40689 non-null  int64 \n",
      " 10  month      40689 non-null  object\n",
      " 11  duration   40689 non-null  int64 \n",
      " 12  campaign   40689 non-null  int64 \n",
      " 13  pdays      40689 non-null  int64 \n",
      " 14  previous   40689 non-null  int64 \n",
      " 15  poutcome   40689 non-null  object\n",
      "dtypes: int64(7), object(9)\n",
      "memory usage: 5.3+ MB\n"
     ]
    }
   ],
   "source": [
    "X_train_full = df_train.drop(columns=['y'])\n",
    "y_train = df_train['y']\n",
    "\n",
    "X_train_full.info()"
   ]
  },
  {
   "cell_type": "markdown",
   "id": "ededc1af-71c0-48b1-8d67-3a6cc7fb9831",
   "metadata": {},
   "source": [
    "#### Placing All Features for Test Set"
   ]
  },
  {
   "cell_type": "code",
   "execution_count": 24,
   "id": "426bd917-a68e-42e5-afca-90a549ba0c23",
   "metadata": {},
   "outputs": [
    {
     "name": "stdout",
     "output_type": "stream",
     "text": [
      "<class 'pandas.core.frame.DataFrame'>\n",
      "Index: 4522 entries, 14001 to 25978\n",
      "Data columns (total 16 columns):\n",
      " #   Column     Non-Null Count  Dtype \n",
      "---  ------     --------------  ----- \n",
      " 0   age        4522 non-null   int64 \n",
      " 1   job        4522 non-null   object\n",
      " 2   marital    4522 non-null   object\n",
      " 3   education  4522 non-null   object\n",
      " 4   default    4522 non-null   object\n",
      " 5   balance    4522 non-null   int64 \n",
      " 6   housing    4522 non-null   object\n",
      " 7   loan       4522 non-null   object\n",
      " 8   contact    4522 non-null   object\n",
      " 9   day        4522 non-null   int64 \n",
      " 10  month      4522 non-null   object\n",
      " 11  duration   4522 non-null   int64 \n",
      " 12  campaign   4522 non-null   int64 \n",
      " 13  pdays      4522 non-null   int64 \n",
      " 14  previous   4522 non-null   int64 \n",
      " 15  poutcome   4522 non-null   object\n",
      "dtypes: int64(7), object(9)\n",
      "memory usage: 600.6+ KB\n"
     ]
    }
   ],
   "source": [
    "X_test_full = df_test.drop(columns=['y'])\n",
    "y_test = df_test['y']\n",
    "\n",
    "X_test_full.info()"
   ]
  },
  {
   "cell_type": "markdown",
   "id": "3a1c8658-3c83-4c76-9eac-4647a9ade92b",
   "metadata": {},
   "source": [
    "#### Calculating F1-Score on Test Data without Hyperparameter Tuning"
   ]
  },
  {
   "cell_type": "code",
   "execution_count": 25,
   "id": "8160de3f-59c2-40a4-9094-440fa720b8dd",
   "metadata": {},
   "outputs": [
    {
     "name": "stdout",
     "output_type": "stream",
     "text": [
      "0.5035971223021583\n"
     ]
    }
   ],
   "source": [
    "# Fitting The Pipeline on Train Data \n",
    "pipe.fit(X_train_full,y_train)\n",
    "\n",
    "# Evaluating on the Test Data \n",
    "y_pred = pipe.predict(X_test_full)\n",
    "print(f1_score(y_test, y_pred))"
   ]
  },
  {
   "cell_type": "markdown",
   "id": "2ee4d7b8-006b-4dfd-a4e9-ebe2894bf0f8",
   "metadata": {},
   "source": [
    "#### Defining The Hyperparameter Space"
   ]
  },
  {
   "cell_type": "code",
   "execution_count": 26,
   "id": "d89f3092-21ab-4b83-a95d-358a01f6bc35",
   "metadata": {},
   "outputs": [],
   "source": [
    "hyperparameter_space = {\n",
    "\"model__n_estimators\": Integer(low=5, high=200), \n",
    "\"model__criterion\": Categorical([\"gini\", \"entropy\"]),\n",
    "\"model__class_weight\": Categorical([\"balanced\",\"balanced_subsample\"]),\n",
    "\"model__min_samples_split\": Real(low=0,high=0.5,prior=\"truncnorm\",\n",
    "                                 **{\"loc\":0.005,\"scale\":0.01})\n",
    "} "
   ]
  },
  {
   "cell_type": "markdown",
   "id": "fb5f6906-b957-475e-a051-84b81791924f",
   "metadata": {},
   "source": [
    "### BOGP"
   ]
  },
  {
   "cell_type": "code",
   "execution_count": 27,
   "id": "9447b904-38a5-43bb-8921-3161af0fdf67",
   "metadata": {},
   "outputs": [],
   "source": [
    "clf = BayesSearchCV(pipe,\n",
    "                    hyperparameter_space,\n",
    "                    n_iter=50,\n",
    "                    optimizer_kwargs={\"base_estimator\":\"GP\",\n",
    "                                      \"n_initial_points\":10,\n",
    "                                      \"initial_point_generator\":\"random\",\n",
    "                                      \"acq_func\":\"EI\",\n",
    "                                      \"acq_optimizer\":\"auto\",\n",
    "                                      \"n_jobs\":-1,\n",
    "                                      \"random_state\":0,\n",
    "                                      \"acq_func_kwargs\": {\"xi\":0.01}\n",
    "                                     },\n",
    "                    random_state = 0,\n",
    "                    scoring = 'f1',\n",
    "                    cv=5, \n",
    "                    n_jobs=-1,\n",
    "                    refit = True,\n",
    "                    verbose=2)"
   ]
  },
  {
   "cell_type": "markdown",
   "id": "121e7346-a69a-4f32-8a05-ffed7f136cb7",
   "metadata": {},
   "source": [
    "#### # Running The `BOGP CV`"
   ]
  },
  {
   "cell_type": "code",
   "execution_count": 32,
   "id": "4a7e24ed-f704-4cdb-97e2-bac17bfe02ca",
   "metadata": {},
   "outputs": [],
   "source": [
    "clf.fit(X_train_full, y_train)"
   ]
  },
  {
   "cell_type": "code",
   "execution_count": 33,
   "id": "da8f8fac-8c8c-4c2c-9f65-ea3b5556f206",
   "metadata": {},
   "outputs": [],
   "source": [
    "clf.best_params_,clf.best_score_"
   ]
  },
  {
   "cell_type": "code",
   "execution_count": 34,
   "id": "ee080cbf-c0af-4e6a-89f7-44b98284cbb7",
   "metadata": {},
   "outputs": [],
   "source": [
    "clf.score(X_test_full,y_test)"
   ]
  },
  {
   "cell_type": "code",
   "execution_count": null,
   "id": "91b7467a-2220-40c3-b9ce-33897a289d90",
   "metadata": {},
   "outputs": [],
   "source": []
  }
 ],
 "metadata": {
  "kernelspec": {
   "display_name": "Python 3 (ipykernel)",
   "language": "python",
   "name": "python3"
  },
  "language_info": {
   "codemirror_mode": {
    "name": "ipython",
    "version": 3
   },
   "file_extension": ".py",
   "mimetype": "text/x-python",
   "name": "python",
   "nbconvert_exporter": "python",
   "pygments_lexer": "ipython3",
   "version": "3.10.18"
  }
 },
 "nbformat": 4,
 "nbformat_minor": 5
}
