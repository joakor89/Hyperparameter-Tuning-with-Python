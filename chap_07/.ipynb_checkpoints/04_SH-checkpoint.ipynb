{
 "cells": [
  {
   "cell_type": "markdown",
   "id": "a5f19eb5-cbfb-474d-9c23-5efb4e1cef49",
   "metadata": {},
   "source": [
    "# Hyperparameter Tuning via Scikit-Learn\n",
    "\n",
    "## Succesive Halving\n",
    "\n",
    "### Loading Libraries"
   ]
  },
  {
   "cell_type": "code",
   "execution_count": 1,
   "id": "e663f698-9e1a-4c37-87bd-f000115d098f",
   "metadata": {},
   "outputs": [],
   "source": [
    "# Numerical Computing\n",
    "import numpy as np\n",
    "\n",
    "# Data Manipulation\n",
    "import pandas as pd\n",
    "\n",
    "# Data Visualization\n",
    "import matplotlib.pyplot as plt\n",
    "\n",
    "# StatsModel\n",
    "import scipy\n",
    "from scipy.stats import randint,truncnorm\n",
    "\n",
    "# Scikit-Learn\n",
    "from sklearn.base import clone\n",
    "from sklearn.pipeline import Pipeline\n",
    "from sklearn.impute import SimpleImputer\n",
    "from sklearn.compose import ColumnTransformer\n",
    "from sklearn.metrics import f1_score, make_scorer\n",
    "from sklearn.ensemble import RandomForestClassifier\n",
    "from sklearn.preprocessing import StandardScaler, OneHotEncoder\n",
    "from sklearn.model_selection import ParameterSampler, cross_val_score\n",
    "from sklearn.model_selection import train_test_split, GridSearchCV, RandomizedSearchCV"
   ]
  },
  {
   "cell_type": "code",
   "execution_count": 2,
   "id": "922057b8-af40-481c-8ae5-e35626cd5f2d",
   "metadata": {},
   "outputs": [],
   "source": [
    "# Successive Halving\n",
    "from sklearn.experimental import enable_halving_search_cv\n",
    "from sklearn.model_selection import HalvingRandomSearchCV"
   ]
  },
  {
   "cell_type": "markdown",
   "id": "e8ce5710-9c78-440b-be59-8f6e48d5ffe1",
   "metadata": {},
   "source": [
    "### Loading Data"
   ]
  },
  {
   "cell_type": "code",
   "execution_count": 3,
   "id": "6d921d27-13ea-468b-8d42-aed94d08cd4f",
   "metadata": {},
   "outputs": [],
   "source": [
    "df = pd.read_csv(\"/Users/joaquinromero/Desktop/HPTP/data/train.csv\", sep=\";\")"
   ]
  },
  {
   "cell_type": "code",
   "execution_count": 4,
   "id": "9454cae1-60b2-4426-b6de-d945f39e95a1",
   "metadata": {},
   "outputs": [],
   "source": [
    "df['y'] = df['y'].map({'yes':1,'no':0})"
   ]
  },
  {
   "cell_type": "markdown",
   "id": "584a3505-5077-48e7-bc5b-977bbae61058",
   "metadata": {},
   "source": [
    "### Train/Test Split"
   ]
  },
  {
   "cell_type": "code",
   "execution_count": 5,
   "id": "bc44f018-3903-4fbe-baec-356a18635a6c",
   "metadata": {},
   "outputs": [],
   "source": [
    "df_train, df_test = train_test_split(df, test_size=0.1, random_state=0) "
   ]
  },
  {
   "cell_type": "markdown",
   "id": "6a5b53fd-a5d1-4c44-9b1c-4826ef2242f4",
   "metadata": {},
   "source": [
    "#### Placing Numerical Features"
   ]
  },
  {
   "cell_type": "code",
   "execution_count": 6,
   "id": "d223ff11-d65c-4e3c-900a-f3f4d7f00d47",
   "metadata": {},
   "outputs": [],
   "source": [
    "numerical_feats = list(df_train.drop(columns='y').select_dtypes(include=np.number).columns)"
   ]
  },
  {
   "cell_type": "markdown",
   "id": "6e505918-45c8-41f8-9627-7e6216c68ff2",
   "metadata": {},
   "source": [
    "#### Placing Categorical Features"
   ]
  },
  {
   "cell_type": "code",
   "execution_count": 7,
   "id": "d7d676b4-49b3-4e59-b1f9-b4128f32e413",
   "metadata": {},
   "outputs": [],
   "source": [
    "categorical_feats = list(df_train.drop(columns='y').select_dtypes(exclude=np.number).columns)"
   ]
  },
  {
   "cell_type": "markdown",
   "id": "2f466fea-a0e3-4bbe-b21a-17e4fbc9aa41",
   "metadata": {},
   "source": [
    "### Pre-Processor"
   ]
  },
  {
   "cell_type": "code",
   "execution_count": 8,
   "id": "6f3d4272-c2a2-46b8-b0d0-9bedfc23e6e9",
   "metadata": {},
   "outputs": [],
   "source": [
    "# Normalization Pre-processing for Numerical Features\n",
    "numeric_preprocessor = StandardScaler()\n",
    "\n",
    "# One-Hot-Encoding Pre-processing for Categorical Features\n",
    "categorical_preprocessor = OneHotEncoder(handle_unknown=\"ignore\")"
   ]
  },
  {
   "cell_type": "code",
   "execution_count": 9,
   "id": "642260d5-e36e-48c1-9806-750bcd6da6a5",
   "metadata": {},
   "outputs": [],
   "source": [
    "preprocessor = ColumnTransformer(\n",
    "    transformers=[\n",
    "        (\"num\", numeric_preprocessor, numerical_feats),\n",
    "        (\"cat\", categorical_preprocessor, categorical_feats),\n",
    "    ]\n",
    ")"
   ]
  },
  {
   "cell_type": "markdown",
   "id": "8b4d5385-1ace-46c4-87b8-2dd82e96f15b",
   "metadata": {},
   "source": [
    "### Pipeline"
   ]
  },
  {
   "cell_type": "code",
   "execution_count": 10,
   "id": "4417f389-0b2c-4408-a245-efff4303e66d",
   "metadata": {},
   "outputs": [],
   "source": [
    "pipe = Pipeline(\n",
    "    steps=[(\"preprocessor\", preprocessor), \n",
    "           (\"model\", RandomForestClassifier(random_state=0))]\n",
    ")"
   ]
  },
  {
   "cell_type": "markdown",
   "id": "051bf2be-534f-438e-b5a5-a44638bd2931",
   "metadata": {},
   "source": [
    "#### Placing All Features for Training Set"
   ]
  },
  {
   "cell_type": "code",
   "execution_count": 11,
   "id": "1a5969aa-d4c4-4371-8a01-7ff27614f926",
   "metadata": {},
   "outputs": [
    {
     "name": "stdout",
     "output_type": "stream",
     "text": [
      "<class 'pandas.core.frame.DataFrame'>\n",
      "Index: 40689 entries, 17974 to 2732\n",
      "Data columns (total 16 columns):\n",
      " #   Column     Non-Null Count  Dtype \n",
      "---  ------     --------------  ----- \n",
      " 0   age        40689 non-null  int64 \n",
      " 1   job        40689 non-null  object\n",
      " 2   marital    40689 non-null  object\n",
      " 3   education  40689 non-null  object\n",
      " 4   default    40689 non-null  object\n",
      " 5   balance    40689 non-null  int64 \n",
      " 6   housing    40689 non-null  object\n",
      " 7   loan       40689 non-null  object\n",
      " 8   contact    40689 non-null  object\n",
      " 9   day        40689 non-null  int64 \n",
      " 10  month      40689 non-null  object\n",
      " 11  duration   40689 non-null  int64 \n",
      " 12  campaign   40689 non-null  int64 \n",
      " 13  pdays      40689 non-null  int64 \n",
      " 14  previous   40689 non-null  int64 \n",
      " 15  poutcome   40689 non-null  object\n",
      "dtypes: int64(7), object(9)\n",
      "memory usage: 5.3+ MB\n"
     ]
    }
   ],
   "source": [
    "X_train_full = df_train.drop(columns=['y'])\n",
    "y_train = df_train['y']\n",
    "\n",
    "X_train_full.info()"
   ]
  },
  {
   "cell_type": "markdown",
   "id": "c2dd5b00-fa38-4b1a-a5a0-c546b550103f",
   "metadata": {},
   "source": [
    "#### Placing All Features for Test Set"
   ]
  },
  {
   "cell_type": "code",
   "execution_count": 12,
   "id": "9164add6-48f7-42e3-824c-ae49aa5bcc02",
   "metadata": {},
   "outputs": [
    {
     "name": "stdout",
     "output_type": "stream",
     "text": [
      "<class 'pandas.core.frame.DataFrame'>\n",
      "Index: 4522 entries, 14001 to 25978\n",
      "Data columns (total 16 columns):\n",
      " #   Column     Non-Null Count  Dtype \n",
      "---  ------     --------------  ----- \n",
      " 0   age        4522 non-null   int64 \n",
      " 1   job        4522 non-null   object\n",
      " 2   marital    4522 non-null   object\n",
      " 3   education  4522 non-null   object\n",
      " 4   default    4522 non-null   object\n",
      " 5   balance    4522 non-null   int64 \n",
      " 6   housing    4522 non-null   object\n",
      " 7   loan       4522 non-null   object\n",
      " 8   contact    4522 non-null   object\n",
      " 9   day        4522 non-null   int64 \n",
      " 10  month      4522 non-null   object\n",
      " 11  duration   4522 non-null   int64 \n",
      " 12  campaign   4522 non-null   int64 \n",
      " 13  pdays      4522 non-null   int64 \n",
      " 14  previous   4522 non-null   int64 \n",
      " 15  poutcome   4522 non-null   object\n",
      "dtypes: int64(7), object(9)\n",
      "memory usage: 600.6+ KB\n"
     ]
    }
   ],
   "source": [
    "X_test_full = df_test.drop(columns=['y'])\n",
    "y_test = df_test['y']\n",
    "\n",
    "X_test_full.info()"
   ]
  },
  {
   "cell_type": "markdown",
   "id": "4c1f8c6e-d8de-4447-a515-432ff571643d",
   "metadata": {},
   "source": [
    "#### Calculating F1-Score on Test Data without Hyperparameter Tuning"
   ]
  },
  {
   "cell_type": "code",
   "execution_count": 13,
   "id": "5e9b8631-b033-4363-9f1f-0f73a030fb60",
   "metadata": {},
   "outputs": [
    {
     "name": "stdout",
     "output_type": "stream",
     "text": [
      "0.5035971223021583\n"
     ]
    }
   ],
   "source": [
    "# Fitting The Pipeline on Train Data \n",
    "pipe.fit(X_train_full,y_train)\n",
    "\n",
    "# Evaluating on the Test Data \n",
    "y_pred = pipe.predict(X_test_full)\n",
    "print(f1_score(y_test, y_pred))"
   ]
  },
  {
   "cell_type": "markdown",
   "id": "66cc5d49-6412-4c81-b2be-f16a238f8de6",
   "metadata": {},
   "source": [
    "#### Defining The Hyperparameter Space"
   ]
  },
  {
   "cell_type": "code",
   "execution_count": 14,
   "id": "69c5cd69-97c2-4481-9745-d8da30403eed",
   "metadata": {},
   "outputs": [],
   "source": [
    "hyperparameter_space = { \n",
    "\"model__n_estimators\": randint(5, 200), \n",
    "\"model__criterion\": [\"gini\", \"entropy\"],\n",
    "\"model__class_weight\": [\"balanced\",\"balanced_subsample\"],\n",
    "\"model__min_samples_split\": truncnorm(a=0,b=0.5,loc=0.005, scale=0.01),\n",
    "} "
   ]
  },
  {
   "cell_type": "markdown",
   "id": "95f63a75-93ce-46e7-b795-b6b0cd5f4e91",
   "metadata": {},
   "source": [
    "### Performing Succesive Halving with Random Search"
   ]
  },
  {
   "cell_type": "code",
   "execution_count": null,
   "id": "8aa50881-c875-4c98-8a4b-d0b1e7e2c7b1",
   "metadata": {},
   "outputs": [],
   "source": [
    "clf = HalvingRandomSearchCV(pipe, \n",
    "                            hyperparameter_space, \n",
    "                            factor=3,\n",
    "                            aggressive_elimination=False,\n",
    "                            random_state = 0,\n",
    "                            scoring = 'f1',\n",
    "                            cv=5, \n",
    "                            n_jobs=-1,\n",
    "                            refit = True,\n",
    "                            verbose=2)"
   ]
  },
  {
   "cell_type": "markdown",
   "id": "c4a31a9b-47e9-49af-bc28-934fae431bbd",
   "metadata": {},
   "source": [
    "#### Running `HalvingRandomSearchCV`"
   ]
  },
  {
   "cell_type": "code",
   "execution_count": null,
   "id": "86e32b98-4396-4517-89ce-dd738ea175c9",
   "metadata": {},
   "outputs": [],
   "source": [
    "clf.fit(X_train_full, y_train)"
   ]
  },
  {
   "cell_type": "code",
   "execution_count": null,
   "id": "41e5b7c5-59a3-441f-b97f-6f9dcd8e85e3",
   "metadata": {},
   "outputs": [],
   "source": [
    "print(clf.best_params_, clf.best_score_)"
   ]
  },
  {
   "cell_type": "markdown",
   "id": "47537288-4b63-437b-831f-7c9ff4bd6152",
   "metadata": {},
   "source": [
    "#### Test Data Evaluation"
   ]
  },
  {
   "cell_type": "code",
   "execution_count": null,
   "id": "bd222955-d270-4c14-b2c7-0c0d33067734",
   "metadata": {},
   "outputs": [],
   "source": [
    "print(clf.score(X_test_full, y_test))"
   ]
  },
  {
   "cell_type": "code",
   "execution_count": null,
   "id": "7c6ff8d7-2159-4787-8be6-471107fba182",
   "metadata": {},
   "outputs": [],
   "source": []
  },
  {
   "cell_type": "code",
   "execution_count": null,
   "id": "9c79edde-14d5-4f04-9923-fb79804651dd",
   "metadata": {},
   "outputs": [],
   "source": [
    "results = pd.DataFrame(clf.cv_results_)\n",
    "results[\"params_str\"] = results.params.apply(str)\n",
    "results.drop_duplicates(subset=(\"params_str\", \"iter\"), inplace=True)\n",
    "mean_scores = results.pivot(\n",
    "    index=\"iter\", columns=\"params_str\", values=\"mean_test_score\"\n",
    ")\n",
    "\n",
    "fig, ax = plt.subplots(figsize=(16,16))\n",
    "\n",
    "ax = mean_scores.plot(legend=False, alpha=0.6, ax=ax)\n",
    "\n",
    "labels = [\n",
    "    f\"Iteration {i+1}\\nn_samples={clf.n_resources_[i]}\\nn_candidates={clf.n_candidates_[i]}\"\n",
    "    for i in range(clf.n_iterations_)\n",
    "]\n",
    "\n",
    "ax.set_xticks(range(clf.n_iterations_))\n",
    "ax.set_xticklabels(labels, rotation=0, multialignment=\"left\",size=16)\n",
    "ax.set_title(\"F1-Score of Candidates over Iterations\",size=20)\n",
    "ax.set_ylabel(\"5-Folds Cross Validation F1-Score\", fontsize=18)\n",
    "ax.set_xlabel(\"\")\n",
    "plt.tight_layout()\n",
    "plt.show()"
   ]
  }
 ],
 "metadata": {
  "kernelspec": {
   "display_name": "Python 3 (ipykernel)",
   "language": "python",
   "name": "python3"
  },
  "language_info": {
   "codemirror_mode": {
    "name": "ipython",
    "version": 3
   },
   "file_extension": ".py",
   "mimetype": "text/x-python",
   "name": "python",
   "nbconvert_exporter": "python",
   "pygments_lexer": "ipython3",
   "version": "3.10.18"
  }
 },
 "nbformat": 4,
 "nbformat_minor": 5
}
