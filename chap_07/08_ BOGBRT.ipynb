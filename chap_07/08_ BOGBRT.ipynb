{
 "cells": [
  {
   "cell_type": "markdown",
   "id": "14b5b99c-08ad-4d71-8c95-0a29876f2ca8",
   "metadata": {},
   "source": [
    "# Hyperparameter Tuning via Scikit-Learn\n",
    "\n",
    "## Bayesian Optimization Gradient Boosted Trees\n",
    "\n",
    "### Loading Libraries"
   ]
  },
  {
   "cell_type": "code",
   "execution_count": 1,
   "id": "f173a28b-a9a7-45a3-9620-3d0916040c40",
   "metadata": {},
   "outputs": [],
   "source": [
    "# Numerical Computing\n",
    "import numpy as np\n",
    "\n",
    "# Data Manipulation\n",
    "import pandas as pd\n",
    "\n",
    "# Data Visualization\n",
    "import matplotlib.pyplot as plt\n",
    "\n",
    "# StatsModel\n",
    "import scipy\n",
    "from scipy.stats import randint,truncnorm\n",
    "\n",
    "# Skopt\n",
    "from skopt.space import *\n",
    "from skopt.space import Real\n",
    "from skopt import BayesSearchCV\n",
    "\n",
    "# Scikit-Learn\n",
    "from sklearn.base import clone\n",
    "from sklearn.pipeline import Pipeline\n",
    "from sklearn.impute import SimpleImputer\n",
    "from sklearn.compose import ColumnTransformer\n",
    "from sklearn.metrics import f1_score, make_scorer\n",
    "from sklearn.ensemble import RandomForestClassifier\n",
    "from sklearn.preprocessing import StandardScaler, OneHotEncoder\n",
    "from sklearn.model_selection import ParameterSampler, cross_val_score\n",
    "from sklearn.model_selection import train_test_split, GridSearchCV, RandomizedSearchCV"
   ]
  },
  {
   "cell_type": "markdown",
   "id": "18ff16a3-d717-44de-aaa6-9080f7b5efca",
   "metadata": {},
   "source": [
    "### Loading Data"
   ]
  },
  {
   "cell_type": "code",
   "execution_count": 2,
   "id": "e5c06d57-88e1-4a90-b9f3-64780dad96e7",
   "metadata": {},
   "outputs": [],
   "source": [
    "df = pd.read_csv(\"/Users/joaquinromero/Desktop/HPTP/data/train.csv\", sep=\";\")"
   ]
  },
  {
   "cell_type": "code",
   "execution_count": 3,
   "id": "a8b7e953-e026-481e-97f9-88203ab4c410",
   "metadata": {},
   "outputs": [],
   "source": [
    "df['y'] = df['y'].map({'yes':1,'no':0})"
   ]
  },
  {
   "cell_type": "markdown",
   "id": "ade1158e-f6f0-4ccf-b753-0af27716c5d1",
   "metadata": {},
   "source": [
    "### Train/Test Split"
   ]
  },
  {
   "cell_type": "code",
   "execution_count": 4,
   "id": "69711f55-2a87-461e-b10f-c0a87c471f07",
   "metadata": {},
   "outputs": [],
   "source": [
    "df_train, df_test = train_test_split(df, test_size=0.1, random_state=0) "
   ]
  },
  {
   "cell_type": "markdown",
   "id": "380c1d59-badc-45a8-947e-0c9b7f7e85a4",
   "metadata": {},
   "source": [
    "#### Placing Numerical Features"
   ]
  },
  {
   "cell_type": "code",
   "execution_count": 5,
   "id": "5c96ca57-d4b3-46a6-baa7-777a267db109",
   "metadata": {},
   "outputs": [],
   "source": [
    "numerical_feats = list(df_train.drop(columns='y').select_dtypes(include=np.number).columns)"
   ]
  },
  {
   "cell_type": "markdown",
   "id": "3e856c2d-5dc8-4517-8b82-f6a5acae7d41",
   "metadata": {},
   "source": [
    "#### Placing Categorical Features"
   ]
  },
  {
   "cell_type": "code",
   "execution_count": 6,
   "id": "0dbda48f-7a31-4d4b-bfd7-578df1cd3b53",
   "metadata": {},
   "outputs": [],
   "source": [
    "categorical_feats = list(df_train.drop(columns='y').select_dtypes(exclude=np.number).columns)"
   ]
  },
  {
   "cell_type": "markdown",
   "id": "1c93bb72-d005-4522-ae8e-e2c751c8afc0",
   "metadata": {},
   "source": [
    "### Pre-Processor"
   ]
  },
  {
   "cell_type": "code",
   "execution_count": 7,
   "id": "addc9f72-084a-4690-9b6a-1ddb350948f4",
   "metadata": {},
   "outputs": [],
   "source": [
    "# Normalization Pre-processing for Numerical Features\n",
    "numeric_preprocessor = StandardScaler()\n",
    "\n",
    "# One-Hot-Encoding Pre-processing for Categorical Features\n",
    "categorical_preprocessor = OneHotEncoder(handle_unknown=\"ignore\")"
   ]
  },
  {
   "cell_type": "code",
   "execution_count": 8,
   "id": "b6546618-ec9f-4b31-8171-9be958ed88eb",
   "metadata": {},
   "outputs": [],
   "source": [
    "preprocessor = ColumnTransformer(\n",
    "    transformers=[\n",
    "        (\"num\", numeric_preprocessor, numerical_feats),\n",
    "        (\"cat\", categorical_preprocessor, categorical_feats),\n",
    "    ]\n",
    ")"
   ]
  },
  {
   "cell_type": "markdown",
   "id": "e71be07b-1b51-484d-9587-82fb159cffbe",
   "metadata": {},
   "source": [
    "### Pipeline"
   ]
  },
  {
   "cell_type": "code",
   "execution_count": 9,
   "id": "a6a6e60e-e94e-4f6f-bb70-272b55dda29e",
   "metadata": {},
   "outputs": [],
   "source": [
    "pipe = Pipeline(\n",
    "    steps=[(\"preprocessor\", preprocessor), \n",
    "           (\"model\", RandomForestClassifier(random_state=0))]\n",
    ")"
   ]
  },
  {
   "cell_type": "markdown",
   "id": "079bc921-c0a2-45fe-aab6-3480127b16a7",
   "metadata": {},
   "source": [
    "#### Placing All Features for Training Set"
   ]
  },
  {
   "cell_type": "code",
   "execution_count": 18,
   "id": "f4819c88-647d-40d3-b13d-de03790e95c8",
   "metadata": {},
   "outputs": [
    {
     "name": "stdout",
     "output_type": "stream",
     "text": [
      "<class 'pandas.core.frame.DataFrame'>\n",
      "Index: 40689 entries, 17974 to 2732\n",
      "Data columns (total 16 columns):\n",
      " #   Column     Non-Null Count  Dtype \n",
      "---  ------     --------------  ----- \n",
      " 0   age        40689 non-null  int64 \n",
      " 1   job        40689 non-null  object\n",
      " 2   marital    40689 non-null  object\n",
      " 3   education  40689 non-null  object\n",
      " 4   default    40689 non-null  object\n",
      " 5   balance    40689 non-null  int64 \n",
      " 6   housing    40689 non-null  object\n",
      " 7   loan       40689 non-null  object\n",
      " 8   contact    40689 non-null  object\n",
      " 9   day        40689 non-null  int64 \n",
      " 10  month      40689 non-null  object\n",
      " 11  duration   40689 non-null  int64 \n",
      " 12  campaign   40689 non-null  int64 \n",
      " 13  pdays      40689 non-null  int64 \n",
      " 14  previous   40689 non-null  int64 \n",
      " 15  poutcome   40689 non-null  object\n",
      "dtypes: int64(7), object(9)\n",
      "memory usage: 5.3+ MB\n"
     ]
    }
   ],
   "source": [
    "X_train_full = df_train.drop(columns=['y'])\n",
    "y_train = df_train['y']\n",
    "\n",
    "X_train_full.info()"
   ]
  },
  {
   "cell_type": "markdown",
   "id": "c90883e5-b3b5-4b10-8335-fac217b4b138",
   "metadata": {},
   "source": [
    "#### Placing All Features for Test Set"
   ]
  },
  {
   "cell_type": "code",
   "execution_count": 19,
   "id": "7786a82a-c255-47f3-a4c2-014bffbc6961",
   "metadata": {},
   "outputs": [
    {
     "name": "stdout",
     "output_type": "stream",
     "text": [
      "<class 'pandas.core.frame.DataFrame'>\n",
      "Index: 4522 entries, 14001 to 25978\n",
      "Data columns (total 16 columns):\n",
      " #   Column     Non-Null Count  Dtype \n",
      "---  ------     --------------  ----- \n",
      " 0   age        4522 non-null   int64 \n",
      " 1   job        4522 non-null   object\n",
      " 2   marital    4522 non-null   object\n",
      " 3   education  4522 non-null   object\n",
      " 4   default    4522 non-null   object\n",
      " 5   balance    4522 non-null   int64 \n",
      " 6   housing    4522 non-null   object\n",
      " 7   loan       4522 non-null   object\n",
      " 8   contact    4522 non-null   object\n",
      " 9   day        4522 non-null   int64 \n",
      " 10  month      4522 non-null   object\n",
      " 11  duration   4522 non-null   int64 \n",
      " 12  campaign   4522 non-null   int64 \n",
      " 13  pdays      4522 non-null   int64 \n",
      " 14  previous   4522 non-null   int64 \n",
      " 15  poutcome   4522 non-null   object\n",
      "dtypes: int64(7), object(9)\n",
      "memory usage: 600.6+ KB\n"
     ]
    }
   ],
   "source": [
    "X_test_full = df_test.drop(columns=['y'])\n",
    "y_test = df_test['y']\n",
    "\n",
    "X_test_full.info()"
   ]
  },
  {
   "cell_type": "markdown",
   "id": "b29ae158-8cb0-47b1-aeb8-cde3b13940ba",
   "metadata": {},
   "source": [
    "#### Calculating F1-Score on Test Data without Hyperparameter Tuning"
   ]
  },
  {
   "cell_type": "code",
   "execution_count": 20,
   "id": "1d11485a-e797-4f78-bb86-0dfccd25bf9a",
   "metadata": {},
   "outputs": [
    {
     "name": "stdout",
     "output_type": "stream",
     "text": [
      "0.5035971223021583\n"
     ]
    }
   ],
   "source": [
    "# Fitting The Pipeline on Train Data \n",
    "pipe.fit(X_train_full,y_train)\n",
    "\n",
    "# Evaluating on the Test Data \n",
    "y_pred = pipe.predict(X_test_full)\n",
    "print(f1_score(y_test, y_pred))"
   ]
  },
  {
   "cell_type": "markdown",
   "id": "741956c9-3f6a-40b5-a97e-6bc2e67b3c5c",
   "metadata": {},
   "source": [
    "#### Defining The Hyperparameter Space"
   ]
  },
  {
   "cell_type": "code",
   "execution_count": 21,
   "id": "bac1b126-c9c3-4ace-b568-c10e0398e092",
   "metadata": {},
   "outputs": [],
   "source": [
    "# hyperparameter_space = {\n",
    "# \"model__n_estimators\": Integer(low=5, high=200), \n",
    "# \"model__criterion\": Categorical([\"gini\", \"entropy\"]),\n",
    "# \"model__class_weight\": Categorical([\"balanced\",\"balanced_subsample\"]),\n",
    "# \"model__min_samples_split\": Real(low=0,\n",
    "#                                  high=0.5,\n",
    "#                                  prior=\"truncnorm\",\n",
    "#                                  **{\"loc\":0.005,\"scale\":0.01})\n",
    "# } "
   ]
  },
  {
   "cell_type": "code",
   "execution_count": 22,
   "id": "e0489fc2-e88a-422b-aa33-28e55221b96f",
   "metadata": {},
   "outputs": [],
   "source": [
    "from skopt.space import Real\n",
    "\n",
    "hyperparameter_space = {\n",
    "    \"model__n_estimators\": Integer(5, 200),\n",
    "    \"model__criterion\": Categorical([\"gini\", \"entropy\"]),\n",
    "    \"model__class_weight\": Categorical([\"balanced\", \"balanced_subsample\"]),\n",
    "    \"model__min_samples_split\": Real(\n",
    "        low=0.001,   # mínimo razonable\n",
    "        high=0.05,   # máximo razonable\n",
    "        prior=\"uniform\",\n",
    "        name=\"min_samples_split\"\n",
    "    )\n",
    "}"
   ]
  },
  {
   "cell_type": "markdown",
   "id": "c660870d-9795-43d0-a7e5-4e06f110e748",
   "metadata": {},
   "source": [
    "### Performing BOGBRT"
   ]
  },
  {
   "cell_type": "code",
   "execution_count": 23,
   "id": "28d3998d-b41f-4aab-9b61-a460eede1d01",
   "metadata": {},
   "outputs": [],
   "source": [
    "clf = BayesSearchCV(pipe,\n",
    "                    hyperparameter_space,\n",
    "                    n_iter=50,\n",
    "                    optimizer_kwargs={\"base_estimator\":\"GBRT\",\n",
    "                                      \"n_initial_points\":10,\n",
    "                                      \"initial_point_generator\":\"random\",\n",
    "                                      \"acq_func\":\"LCB\",\n",
    "                                      \"acq_optimizer\":\"auto\",\n",
    "                                      \"n_jobs\":-1,\n",
    "                                      \"random_state\":0,\n",
    "                                      \"acq_func_kwargs\": {\"kappa\":1.96}\n",
    "                                     },\n",
    "                    random_state = 0,\n",
    "                    scoring = 'f1',\n",
    "                    cv=5, \n",
    "                    n_jobs=-1,\n",
    "                    refit = True,\n",
    "                    verbose=2)"
   ]
  },
  {
   "cell_type": "code",
   "execution_count": 25,
   "id": "e4f61f89-0248-4baa-8566-25ac87a70907",
   "metadata": {},
   "outputs": [],
   "source": [
    "clf.fit(X_train_full, y_train)"
   ]
  },
  {
   "cell_type": "code",
   "execution_count": 26,
   "id": "fb3b19db-35b1-4a5d-bd64-1b0bc2e91497",
   "metadata": {},
   "outputs": [],
   "source": [
    "clf.best_params_,clf.best_score_"
   ]
  },
  {
   "cell_type": "code",
   "execution_count": 27,
   "id": "9ad9ccef-61aa-446a-96b0-c2c19bf6fbd5",
   "metadata": {},
   "outputs": [],
   "source": [
    "clf.score(X_test_full,y_test)"
   ]
  },
  {
   "cell_type": "code",
   "execution_count": null,
   "id": "6836202d-7981-44f2-a2cb-9b6a44c78284",
   "metadata": {},
   "outputs": [],
   "source": []
  }
 ],
 "metadata": {
  "kernelspec": {
   "display_name": "Python 3 (ipykernel)",
   "language": "python",
   "name": "python3"
  },
  "language_info": {
   "codemirror_mode": {
    "name": "ipython",
    "version": 3
   },
   "file_extension": ".py",
   "mimetype": "text/x-python",
   "name": "python",
   "nbconvert_exporter": "python",
   "pygments_lexer": "ipython3",
   "version": "3.10.18"
  }
 },
 "nbformat": 4,
 "nbformat_minor": 5
}
