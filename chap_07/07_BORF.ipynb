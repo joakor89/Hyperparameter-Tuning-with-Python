{
 "cells": [
  {
   "cell_type": "markdown",
   "id": "4a8caed5-17c3-4811-85dd-3272b7e0f56d",
   "metadata": {},
   "source": [
    "# Hyperparameter Tuning via Scikit-Learn\n",
    "\n",
    "## Bayesian Optimization Random Forest\n",
    "\n",
    "### Loading Libraries"
   ]
  },
  {
   "cell_type": "code",
   "execution_count": 16,
   "id": "8813cba2-e339-4464-8126-33a989697b46",
   "metadata": {},
   "outputs": [],
   "source": [
    "# Numerical Computing\n",
    "import numpy as np\n",
    "\n",
    "# Data Manipulation\n",
    "import pandas as pd\n",
    "\n",
    "# Data Visualization\n",
    "import matplotlib.pyplot as plt\n",
    "\n",
    "# StatsModel\n",
    "import scipy\n",
    "from scipy.stats import randint,truncnorm\n",
    "\n",
    "# Skopt\n",
    "from skopt.space import *\n",
    "from skopt import BayesSearchCV\n",
    "\n",
    "# Scikit-Learn\n",
    "from sklearn.base import clone\n",
    "from sklearn.pipeline import Pipeline\n",
    "from sklearn.impute import SimpleImputer\n",
    "from sklearn.compose import ColumnTransformer\n",
    "from sklearn.metrics import f1_score, make_scorer\n",
    "from sklearn.ensemble import RandomForestClassifier\n",
    "from sklearn.preprocessing import StandardScaler, OneHotEncoder\n",
    "from sklearn.model_selection import ParameterSampler, cross_val_score\n",
    "from sklearn.model_selection import train_test_split, GridSearchCV, RandomizedSearchCV"
   ]
  },
  {
   "cell_type": "markdown",
   "id": "b2b502e6-a4e7-4bd6-84cb-a59539cf1cc7",
   "metadata": {},
   "source": [
    "### Loading Data"
   ]
  },
  {
   "cell_type": "code",
   "execution_count": 2,
   "id": "317086f3-c673-4839-b620-73bc076ae95d",
   "metadata": {},
   "outputs": [],
   "source": [
    "df = pd.read_csv(\"/Users/joaquinromero/Desktop/HPTP/data/train.csv\", sep=\";\")"
   ]
  },
  {
   "cell_type": "code",
   "execution_count": 3,
   "id": "3b709c34-fb4a-4ece-9c67-31b75bc8dc04",
   "metadata": {},
   "outputs": [],
   "source": [
    "df['y'] = df['y'].map({'yes':1,'no':0})"
   ]
  },
  {
   "cell_type": "markdown",
   "id": "49cebdb3-30e7-4015-965b-399f3cda306e",
   "metadata": {},
   "source": [
    "### Train/Test Split"
   ]
  },
  {
   "cell_type": "code",
   "execution_count": 4,
   "id": "ee786470-676d-4d7f-b74c-690a4ce50c48",
   "metadata": {},
   "outputs": [],
   "source": [
    "df_train, df_test = train_test_split(df, test_size=0.1, random_state=0) "
   ]
  },
  {
   "cell_type": "markdown",
   "id": "39730645-05de-4824-9da2-c93cde6a79bf",
   "metadata": {},
   "source": [
    "#### Placing Numerical Features"
   ]
  },
  {
   "cell_type": "code",
   "execution_count": 5,
   "id": "2e9683a3-ee00-4554-be95-f0a0344d1174",
   "metadata": {},
   "outputs": [],
   "source": [
    "numerical_feats = list(df_train.drop(columns='y').select_dtypes(include=np.number).columns)"
   ]
  },
  {
   "cell_type": "markdown",
   "id": "a3adf6a7-e35f-4fe8-9299-952fce256bf1",
   "metadata": {},
   "source": [
    "#### Placing Categorical Features"
   ]
  },
  {
   "cell_type": "code",
   "execution_count": 6,
   "id": "2c9504a6-8163-4ab9-848f-185986776d68",
   "metadata": {},
   "outputs": [],
   "source": [
    "categorical_feats = list(df_train.drop(columns='y').select_dtypes(exclude=np.number).columns)"
   ]
  },
  {
   "cell_type": "markdown",
   "id": "f5f9379d-8d2b-4067-ad87-11c33b83f663",
   "metadata": {},
   "source": [
    "### Pre-Processor"
   ]
  },
  {
   "cell_type": "code",
   "execution_count": 7,
   "id": "77f7d66e-1c77-4344-afaf-0a28a5cefc6c",
   "metadata": {},
   "outputs": [],
   "source": [
    "# Normalization Pre-processing for Numerical Features\n",
    "numeric_preprocessor = StandardScaler()\n",
    "\n",
    "# One-Hot-Encoding Pre-processing for Categorical Features\n",
    "categorical_preprocessor = OneHotEncoder(handle_unknown=\"ignore\")"
   ]
  },
  {
   "cell_type": "code",
   "execution_count": 8,
   "id": "8ac1e9de-fda0-4460-9988-d4ca0d7d777a",
   "metadata": {},
   "outputs": [],
   "source": [
    "preprocessor = ColumnTransformer(\n",
    "    transformers=[\n",
    "        (\"num\", numeric_preprocessor, numerical_feats),\n",
    "        (\"cat\", categorical_preprocessor, categorical_feats),\n",
    "    ]\n",
    ")"
   ]
  },
  {
   "cell_type": "markdown",
   "id": "bb4607ed-f469-42a5-9762-338f749eb424",
   "metadata": {},
   "source": [
    "### Pipeline"
   ]
  },
  {
   "cell_type": "code",
   "execution_count": 9,
   "id": "67b14ff2-7ca1-460a-a237-d6f278ae9731",
   "metadata": {},
   "outputs": [],
   "source": [
    "pipe = Pipeline(\n",
    "    steps=[(\"preprocessor\", preprocessor), \n",
    "           (\"model\", RandomForestClassifier(random_state=0))]\n",
    ")"
   ]
  },
  {
   "cell_type": "markdown",
   "id": "c6d548a7-d650-43f7-ada2-5406c0325209",
   "metadata": {},
   "source": [
    "#### Placing All Features for Training Set"
   ]
  },
  {
   "cell_type": "code",
   "execution_count": 10,
   "id": "aadb7a22-835d-4e15-a15f-8aa6b8d39ad0",
   "metadata": {},
   "outputs": [
    {
     "name": "stdout",
     "output_type": "stream",
     "text": [
      "<class 'pandas.core.frame.DataFrame'>\n",
      "Index: 40689 entries, 17974 to 2732\n",
      "Data columns (total 16 columns):\n",
      " #   Column     Non-Null Count  Dtype \n",
      "---  ------     --------------  ----- \n",
      " 0   age        40689 non-null  int64 \n",
      " 1   job        40689 non-null  object\n",
      " 2   marital    40689 non-null  object\n",
      " 3   education  40689 non-null  object\n",
      " 4   default    40689 non-null  object\n",
      " 5   balance    40689 non-null  int64 \n",
      " 6   housing    40689 non-null  object\n",
      " 7   loan       40689 non-null  object\n",
      " 8   contact    40689 non-null  object\n",
      " 9   day        40689 non-null  int64 \n",
      " 10  month      40689 non-null  object\n",
      " 11  duration   40689 non-null  int64 \n",
      " 12  campaign   40689 non-null  int64 \n",
      " 13  pdays      40689 non-null  int64 \n",
      " 14  previous   40689 non-null  int64 \n",
      " 15  poutcome   40689 non-null  object\n",
      "dtypes: int64(7), object(9)\n",
      "memory usage: 5.3+ MB\n"
     ]
    }
   ],
   "source": [
    "X_train_full = df_train.drop(columns=['y'])\n",
    "y_train = df_train['y']\n",
    "\n",
    "X_train_full.info()"
   ]
  },
  {
   "cell_type": "markdown",
   "id": "70fd597e-4d6c-483f-8b96-404f28145cf8",
   "metadata": {},
   "source": [
    "#### Placing All Features for Test Set"
   ]
  },
  {
   "cell_type": "code",
   "execution_count": 11,
   "id": "ed15ed1f-78b5-46bd-ae2c-9773adeed437",
   "metadata": {},
   "outputs": [
    {
     "name": "stdout",
     "output_type": "stream",
     "text": [
      "<class 'pandas.core.frame.DataFrame'>\n",
      "Index: 4522 entries, 14001 to 25978\n",
      "Data columns (total 16 columns):\n",
      " #   Column     Non-Null Count  Dtype \n",
      "---  ------     --------------  ----- \n",
      " 0   age        4522 non-null   int64 \n",
      " 1   job        4522 non-null   object\n",
      " 2   marital    4522 non-null   object\n",
      " 3   education  4522 non-null   object\n",
      " 4   default    4522 non-null   object\n",
      " 5   balance    4522 non-null   int64 \n",
      " 6   housing    4522 non-null   object\n",
      " 7   loan       4522 non-null   object\n",
      " 8   contact    4522 non-null   object\n",
      " 9   day        4522 non-null   int64 \n",
      " 10  month      4522 non-null   object\n",
      " 11  duration   4522 non-null   int64 \n",
      " 12  campaign   4522 non-null   int64 \n",
      " 13  pdays      4522 non-null   int64 \n",
      " 14  previous   4522 non-null   int64 \n",
      " 15  poutcome   4522 non-null   object\n",
      "dtypes: int64(7), object(9)\n",
      "memory usage: 600.6+ KB\n"
     ]
    }
   ],
   "source": [
    "X_test_full = df_test.drop(columns=['y'])\n",
    "y_test = df_test['y']\n",
    "\n",
    "X_test_full.info()"
   ]
  },
  {
   "cell_type": "markdown",
   "id": "f621b140-8f95-420e-9555-d5e836d9c979",
   "metadata": {},
   "source": [
    "#### Calculating F1-Score on Test Data without Hyperparameter Tuning"
   ]
  },
  {
   "cell_type": "code",
   "execution_count": 12,
   "id": "f5de1f6b-d331-4d86-b765-70c403e4febf",
   "metadata": {},
   "outputs": [
    {
     "name": "stdout",
     "output_type": "stream",
     "text": [
      "0.5035971223021583\n"
     ]
    }
   ],
   "source": [
    "# Fitting The Pipeline on Train Data \n",
    "pipe.fit(X_train_full,y_train)\n",
    "\n",
    "# Evaluating on the Test Data \n",
    "y_pred = pipe.predict(X_test_full)\n",
    "print(f1_score(y_test, y_pred))"
   ]
  },
  {
   "cell_type": "markdown",
   "id": "2f1cf73a-a3a8-46c8-bcfa-44d4901d2227",
   "metadata": {},
   "source": [
    "#### Defining The Hyperparameter Space"
   ]
  },
  {
   "cell_type": "code",
   "execution_count": 17,
   "id": "72eeaff1-84bd-4220-998e-6476307bc823",
   "metadata": {},
   "outputs": [],
   "source": [
    "hyperparameter_space = {\n",
    "\"model__n_estimators\": Integer(low=5, high=200), \n",
    "\"model__criterion\": Categorical([\"gini\", \"entropy\"]),\n",
    "\"model__class_weight\": Categorical([\"balanced\",\"balanced_subsample\"]),\n",
    "\"model__min_samples_split\": Real(low=0,high=0.5,prior=\"truncnorm\",\n",
    "                                 **{\"loc\":0.005,\"scale\":0.01})\n",
    "} "
   ]
  },
  {
   "cell_type": "markdown",
   "id": "bb822e8f-6cd1-4549-a8e8-0af3350ac067",
   "metadata": {},
   "source": [
    "### Performing Bayesian Optimization Random Forest"
   ]
  },
  {
   "cell_type": "code",
   "execution_count": 19,
   "id": "5c235849-62c7-48d1-ad9e-b39caecb9480",
   "metadata": {},
   "outputs": [],
   "source": [
    "clf = BayesSearchCV(pipe, \n",
    "                    hyperparameter_space,\n",
    "                    n_iter=50,\n",
    "                    optimizer_kwargs={\"base_estimator\":\"RF\",\n",
    "                                      \"n_initial_points\":10,\n",
    "                                      \"initial_point_generator\":\"random\",\n",
    "                                      \"acq_func\":\"LCB\",\n",
    "                                      \"acq_optimizer\":\"auto\",\n",
    "                                      \"n_jobs\":-1,\n",
    "                                      \"random_state\":0,\n",
    "                                      \"acq_func_kwargs\": {\"kappa\":1.96}\n",
    "                                     },\n",
    "                    random_state = 0,\n",
    "                    scoring = 'f1',\n",
    "                    cv=5, \n",
    "                    n_jobs=-1,\n",
    "                    refit = True,\n",
    "                    verbose=2)"
   ]
  },
  {
   "cell_type": "markdown",
   "id": "712c3258-f809-4815-8058-932d28690246",
   "metadata": {},
   "source": [
    "#### Running The `BORF CV`"
   ]
  },
  {
   "cell_type": "code",
   "execution_count": 20,
   "id": "ee09fcf4-53b1-4108-add9-215ce9bcb61b",
   "metadata": {},
   "outputs": [],
   "source": [
    "clf.fit(X_train_full, y_train)"
   ]
  },
  {
   "cell_type": "code",
   "execution_count": 21,
   "id": "bb89cd09-c93c-4953-8730-e7b88a756764",
   "metadata": {},
   "outputs": [],
   "source": [
    "clf.best_params_,clf.best_score_"
   ]
  },
  {
   "cell_type": "code",
   "execution_count": 22,
   "id": "5e803fee-c807-447f-b86f-0055da5a4fc0",
   "metadata": {},
   "outputs": [],
   "source": [
    "clf.score(X_test_full,y_test)"
   ]
  },
  {
   "cell_type": "code",
   "execution_count": null,
   "id": "a77769f7-a872-4578-85a5-c3a8ba68573d",
   "metadata": {},
   "outputs": [],
   "source": []
  },
  {
   "cell_type": "code",
   "execution_count": null,
   "id": "d6385ed0-1b11-4ab4-811b-857804a31f19",
   "metadata": {},
   "outputs": [],
   "source": []
  }
 ],
 "metadata": {
  "kernelspec": {
   "display_name": "Python 3 (ipykernel)",
   "language": "python",
   "name": "python3"
  },
  "language_info": {
   "codemirror_mode": {
    "name": "ipython",
    "version": 3
   },
   "file_extension": ".py",
   "mimetype": "text/x-python",
   "name": "python",
   "nbconvert_exporter": "python",
   "pygments_lexer": "ipython3",
   "version": "3.10.18"
  }
 },
 "nbformat": 4,
 "nbformat_minor": 5
}
