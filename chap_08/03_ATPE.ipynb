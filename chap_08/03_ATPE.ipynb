{
 "cells": [
  {
   "cell_type": "markdown",
   "id": "7de00b20-ceef-4229-be7e-2e7a2f82b183",
   "metadata": {},
   "source": [
    "# Hyperparameter Tuning via Hyperopt\n",
    "\n",
    "## ATPE\n",
    "\n",
    "### Loading Libraries"
   ]
  },
  {
   "cell_type": "code",
   "execution_count": 24,
   "id": "d06bcb01-5cae-4d3e-91b7-e0c5cd07080b",
   "metadata": {},
   "outputs": [],
   "source": [
    "# Numerical Computing\n",
    "import numpy as np\n",
    "\n",
    "# Data Manipulation\n",
    "import pandas as pd\n",
    "\n",
    "# Data Visualization\n",
    "import matplotlib.pyplot as plt\n",
    "\n",
    "# Warnings\n",
    "import warnings\n",
    "\n",
    "# StatsModel\n",
    "from scipy.stats import randint,truncnorm\n",
    "\n",
    "# Hyperopt\n",
    "from hyperopt import fmin, atpe, hp, STATUS_OK, Trials, plotting\n",
    "\n",
    "# Scikit-Learn\n",
    "from sklearn.base import clone\n",
    "from sklearn.pipeline import Pipeline\n",
    "from sklearn.impute import SimpleImputer\n",
    "from sklearn.compose import ColumnTransformer\n",
    "from sklearn.metrics import f1_score, make_scorer\n",
    "from sklearn.ensemble import RandomForestClassifier\n",
    "from sklearn.preprocessing import StandardScaler, OneHotEncoder\n",
    "from sklearn.model_selection import train_test_split, GridSearchCV, RandomizedSearchCV, cross_val_score"
   ]
  },
  {
   "cell_type": "code",
   "execution_count": 25,
   "id": "99efc4a4-d492-4d09-ad20-c12652683209",
   "metadata": {},
   "outputs": [],
   "source": [
    "warnings.filterwarnings(\"ignore\")"
   ]
  },
  {
   "cell_type": "markdown",
   "id": "2fdb1389-ba79-45ec-bd38-788a8dffbca8",
   "metadata": {},
   "source": [
    "### Loading Data"
   ]
  },
  {
   "cell_type": "code",
   "execution_count": 26,
   "id": "1f209241-a91f-4507-8d20-cf75b96e7995",
   "metadata": {},
   "outputs": [],
   "source": [
    "df = pd.read_csv(\"/Users/joaquinromero/Desktop/HPTP/data/train.csv\", sep=\";\")"
   ]
  },
  {
   "cell_type": "code",
   "execution_count": 27,
   "id": "ba730851-57b7-42fe-bb16-6ee901a68ba1",
   "metadata": {},
   "outputs": [],
   "source": [
    "df['y'] = df['y'].map({'yes':1,'no':0})"
   ]
  },
  {
   "cell_type": "markdown",
   "id": "34c9b0ab-0418-4c28-9e83-c6ea76b13946",
   "metadata": {},
   "source": [
    "### Train/Test Split"
   ]
  },
  {
   "cell_type": "code",
   "execution_count": 28,
   "id": "12769057-d691-4025-9d12-6a7f1a3e728f",
   "metadata": {},
   "outputs": [],
   "source": [
    "df_train, df_test = train_test_split(df, test_size=0.1, random_state=0) "
   ]
  },
  {
   "cell_type": "markdown",
   "id": "37780929-0a47-4512-b9aa-c5a1787b3638",
   "metadata": {},
   "source": [
    "#### Placing Numerical Features"
   ]
  },
  {
   "cell_type": "code",
   "execution_count": 29,
   "id": "1897b596-1552-453f-91ac-df2aeedde1c2",
   "metadata": {},
   "outputs": [],
   "source": [
    "numerical_feats = list(df_train.drop(columns='y').select_dtypes(include=np.number).columns)"
   ]
  },
  {
   "cell_type": "markdown",
   "id": "f883bc79-57e3-4bdc-b878-8fee112ceda9",
   "metadata": {},
   "source": [
    "#### Placing Categorical Features"
   ]
  },
  {
   "cell_type": "code",
   "execution_count": 30,
   "id": "7ed6c960-e08f-4c52-b914-decc02f39195",
   "metadata": {},
   "outputs": [],
   "source": [
    "categorical_feats = list(df_train.drop(columns='y').select_dtypes(exclude=np.number).columns)"
   ]
  },
  {
   "cell_type": "markdown",
   "id": "f154bcbf-e0b3-4891-a755-662a616495fe",
   "metadata": {},
   "source": [
    "### Preprocessor"
   ]
  },
  {
   "cell_type": "code",
   "execution_count": 31,
   "id": "c11caa2a-8a1e-4c00-b88b-677d4a41763d",
   "metadata": {},
   "outputs": [],
   "source": [
    "# Normalization Pre-processing for Numerical Features\n",
    "numeric_preprocessor = StandardScaler()\n",
    "\n",
    "# One-Hot-Encoding Pre-processing for Categorical Features\n",
    "categorical_preprocessor = OneHotEncoder(handle_unknown=\"ignore\")"
   ]
  },
  {
   "cell_type": "code",
   "execution_count": 32,
   "id": "240f1e79-ed33-4c2e-b988-531f6e5e1992",
   "metadata": {},
   "outputs": [],
   "source": [
    "preprocessor = ColumnTransformer(\n",
    "    transformers=[\n",
    "        (\"num\", numeric_preprocessor, numerical_feats),\n",
    "        (\"cat\", categorical_preprocessor, categorical_feats),\n",
    "    ]\n",
    ")"
   ]
  },
  {
   "cell_type": "markdown",
   "id": "a6d76337-166e-460a-b45e-934a1f993b1b",
   "metadata": {},
   "source": [
    "### Pipeline"
   ]
  },
  {
   "cell_type": "code",
   "execution_count": 33,
   "id": "29224d8f-5fc9-4b07-a607-6d1c713d6563",
   "metadata": {},
   "outputs": [],
   "source": [
    "pipe = Pipeline(\n",
    "    steps=[(\"preprocessor\", preprocessor), \n",
    "           (\"model\", RandomForestClassifier(random_state=0))]\n",
    ")"
   ]
  },
  {
   "cell_type": "markdown",
   "id": "1a31122d-3b0a-4f6a-8dbd-bbdd474ab0c3",
   "metadata": {},
   "source": [
    "#### Placing All Features for Training Set"
   ]
  },
  {
   "cell_type": "code",
   "execution_count": 34,
   "id": "f0a2c803-e766-4797-a063-edd9dec7fe51",
   "metadata": {},
   "outputs": [
    {
     "name": "stdout",
     "output_type": "stream",
     "text": [
      "<class 'pandas.core.frame.DataFrame'>\n",
      "Index: 40689 entries, 17974 to 2732\n",
      "Data columns (total 16 columns):\n",
      " #   Column     Non-Null Count  Dtype \n",
      "---  ------     --------------  ----- \n",
      " 0   age        40689 non-null  int64 \n",
      " 1   job        40689 non-null  object\n",
      " 2   marital    40689 non-null  object\n",
      " 3   education  40689 non-null  object\n",
      " 4   default    40689 non-null  object\n",
      " 5   balance    40689 non-null  int64 \n",
      " 6   housing    40689 non-null  object\n",
      " 7   loan       40689 non-null  object\n",
      " 8   contact    40689 non-null  object\n",
      " 9   day        40689 non-null  int64 \n",
      " 10  month      40689 non-null  object\n",
      " 11  duration   40689 non-null  int64 \n",
      " 12  campaign   40689 non-null  int64 \n",
      " 13  pdays      40689 non-null  int64 \n",
      " 14  previous   40689 non-null  int64 \n",
      " 15  poutcome   40689 non-null  object\n",
      "dtypes: int64(7), object(9)\n",
      "memory usage: 5.3+ MB\n"
     ]
    }
   ],
   "source": [
    "X_train_full = df_train.drop(columns=['y'])\n",
    "y_train = df_train['y']\n",
    "\n",
    "X_train_full.info()"
   ]
  },
  {
   "cell_type": "markdown",
   "id": "56f472d4-b666-41f2-b1e3-add4a2b7c359",
   "metadata": {},
   "source": [
    "#### Placing All Features for Test Set"
   ]
  },
  {
   "cell_type": "code",
   "execution_count": 35,
   "id": "74f76748-3438-4ef1-b316-b3550fba2751",
   "metadata": {},
   "outputs": [
    {
     "name": "stdout",
     "output_type": "stream",
     "text": [
      "<class 'pandas.core.frame.DataFrame'>\n",
      "Index: 4522 entries, 14001 to 25978\n",
      "Data columns (total 16 columns):\n",
      " #   Column     Non-Null Count  Dtype \n",
      "---  ------     --------------  ----- \n",
      " 0   age        4522 non-null   int64 \n",
      " 1   job        4522 non-null   object\n",
      " 2   marital    4522 non-null   object\n",
      " 3   education  4522 non-null   object\n",
      " 4   default    4522 non-null   object\n",
      " 5   balance    4522 non-null   int64 \n",
      " 6   housing    4522 non-null   object\n",
      " 7   loan       4522 non-null   object\n",
      " 8   contact    4522 non-null   object\n",
      " 9   day        4522 non-null   int64 \n",
      " 10  month      4522 non-null   object\n",
      " 11  duration   4522 non-null   int64 \n",
      " 12  campaign   4522 non-null   int64 \n",
      " 13  pdays      4522 non-null   int64 \n",
      " 14  previous   4522 non-null   int64 \n",
      " 15  poutcome   4522 non-null   object\n",
      "dtypes: int64(7), object(9)\n",
      "memory usage: 600.6+ KB\n"
     ]
    }
   ],
   "source": [
    "X_test_full = df_test.drop(columns=['y'])\n",
    "y_test = df_test['y']\n",
    "\n",
    "X_test_full.info()"
   ]
  },
  {
   "cell_type": "markdown",
   "id": "4a3230f7-ae4c-4364-8a16-14d7fc9efbfe",
   "metadata": {},
   "source": [
    "### Objective Function"
   ]
  },
  {
   "cell_type": "code",
   "execution_count": 36,
   "id": "fe2eea60-9d4e-4370-aaec-9dca02fbaf33",
   "metadata": {},
   "outputs": [],
   "source": [
    "def objective(space):\n",
    "    estimator_clone = clone(pipe).set_params(**space)\n",
    "    return {'loss': -1 * np.mean(cross_val_score(estimator_clone,\n",
    "                                            X_train_full, y_train, \n",
    "                                            cv=5, scoring='f1',\n",
    "                                            n_jobs=-1\n",
    "                                            )\n",
    "                            ), \n",
    "            'status': STATUS_OK}"
   ]
  },
  {
   "cell_type": "markdown",
   "id": "e241c891-ea82-414a-a3da-ef9c7eeaeecf",
   "metadata": {},
   "source": [
    "### Hyperparameter Space"
   ]
  },
  {
   "cell_type": "code",
   "execution_count": 37,
   "id": "4dc285af-24f2-4ed2-be74-9da71eeab0f1",
   "metadata": {},
   "outputs": [],
   "source": [
    "hyperparameter_space = { \n",
    "\"model__n_estimators\": 5 + hp.randint(\"n_estimators\", 195), \n",
    "\"model__criterion\": hp.choice(\"criterion\", [\"gini\", \"entropy\"]),\n",
    "\"model__class_weight\": hp.choice(\"class_weight\", [\"balanced\",\"balanced_subsample\"]),\n",
    "\"model__min_samples_split\": hp.loguniform(\"min_samples_split\", np.log(0.0001), np.log(0.5))\n",
    "} "
   ]
  },
  {
   "cell_type": "markdown",
   "id": "c6ea56d1-316c-46b5-a06f-0aa78ebfb26b",
   "metadata": {},
   "source": [
    "#### Defining Trials Object"
   ]
  },
  {
   "cell_type": "code",
   "execution_count": 38,
   "id": "a37360e3-ed0b-47e3-809f-4758ddc4fa9e",
   "metadata": {},
   "outputs": [],
   "source": [
    "trials = Trials()"
   ]
  },
  {
   "cell_type": "markdown",
   "id": "7dcbf244-5d11-4f7a-b502-7c3e298e58c8",
   "metadata": {},
   "source": [
    "#### Performing ATPE"
   ]
  },
  {
   "cell_type": "code",
   "execution_count": 40,
   "id": "fb9ceacb-cb6d-472a-9089-dfc31d4bac4a",
   "metadata": {},
   "outputs": [],
   "source": [
    "best = fmin(objective,\n",
    "            space=hyperparameter_space,\n",
    "            algo=atpe.suggest,\n",
    "            max_evals=100,\n",
    "            rstate=np.random.default_rng(0),\n",
    "            trials=trials,\n",
    "           )\n",
    "\n",
    "print(best)"
   ]
  },
  {
   "cell_type": "code",
   "execution_count": 41,
   "id": "1d59ad77-e54c-4ed9-9a94-c7dc28dcd7a4",
   "metadata": {},
   "outputs": [],
   "source": [
    "pipe = pipe.set_params(**{'model__class_weight': \"balanced_subsample\",\n",
    "                         'model__criterion': \"entropy\",\n",
    "                         'model__min_samples_split': 0.0005096354197481012,\n",
    "                         'model__n_estimators': 157})"
   ]
  },
  {
   "cell_type": "code",
   "execution_count": null,
   "id": "947cc723-c05e-41d3-9652-36f7d255fd1a",
   "metadata": {},
   "outputs": [],
   "source": [
    "pipe.fit(X_train_full,y_train)"
   ]
  },
  {
   "cell_type": "markdown",
   "id": "c6d43af0-a673-4d76-807f-46d4c9312311",
   "metadata": {},
   "source": [
    "### Test Data Evaluate"
   ]
  },
  {
   "cell_type": "code",
   "execution_count": 42,
   "id": "c06e3d1a-29e2-47a9-9b8b-802f0096f70a",
   "metadata": {},
   "outputs": [],
   "source": [
    "y_pred = pipe.predict(X_test_full)\n",
    "\n",
    "print(f1_score(y_test, y_pred))"
   ]
  },
  {
   "cell_type": "code",
   "execution_count": null,
   "id": "c800e713-2c59-4bf1-b11f-6bee313700c9",
   "metadata": {},
   "outputs": [],
   "source": []
  }
 ],
 "metadata": {
  "kernelspec": {
   "display_name": "Python 3 (ipykernel)",
   "language": "python",
   "name": "python3"
  },
  "language_info": {
   "codemirror_mode": {
    "name": "ipython",
    "version": 3
   },
   "file_extension": ".py",
   "mimetype": "text/x-python",
   "name": "python",
   "nbconvert_exporter": "python",
   "pygments_lexer": "ipython3",
   "version": "3.10.18"
  }
 },
 "nbformat": 4,
 "nbformat_minor": 5
}
