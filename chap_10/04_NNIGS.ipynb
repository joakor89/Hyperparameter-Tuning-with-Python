{
 "cells": [
  {
   "cell_type": "markdown",
   "id": "7de00b20-ceef-4229-be7e-2e7a2f82b183",
   "metadata": {},
   "source": [
    "# Hyperparameter Tuning via DEAP\n",
    "\n",
    "## Genetic Algorithm\n",
    "\n",
    "### Loading Libraries"
   ]
  },
  {
   "cell_type": "code",
   "execution_count": 3,
   "id": "d06bcb01-5cae-4d3e-91b7-e0c5cd07080b",
   "metadata": {},
   "outputs": [],
   "source": [
    "# Numerical Computing\n",
    "import math\n",
    "import numpy as np\n",
    "\n",
    "# Data Manipulation\n",
    "import pandas as pd\n",
    "\n",
    "# Data Visualization\n",
    "import seaborn as sns\n",
    "import matplotlib.pyplot as plt\n",
    "\n",
    "# StatsModel\n",
    "from scipy.stats import randint,truncnorm,uniform\n",
    "\n",
    "# Scikit-Learn\n",
    "from sklearn.pipeline import Pipeline\n",
    "from sklearn.impute import SimpleImputer\n",
    "from sklearn.compose import ColumnTransformer\n",
    "from sklearn.metrics import f1_score, make_scorer\n",
    "from sklearn.ensemble import RandomForestClassifier\n",
    "from sklearn.preprocessing import StandardScaler, OneHotEncoder\n",
    "from sklearn.model_selection import train_test_split, GridSearchCV, RandomizedSearchCV, cross_val_score\n",
    "\n",
    "# OS\n",
    "import time\n",
    "import random\n",
    "import operator\n",
    "\n",
    "# DEAP\n",
    "from deap import base\n",
    "from deap import tools\n",
    "from deap import creator\n",
    "\n",
    "#\n",
    "import multiprocessing\n",
    "\n",
    "# NNI\n",
    "# from nni.experiment import Experiment"
   ]
  },
  {
   "cell_type": "code",
   "execution_count": 4,
   "id": "744816be-4d2b-4219-a51d-17d2e57afc0e",
   "metadata": {},
   "outputs": [],
   "source": [
    "sns.set()"
   ]
  },
  {
   "cell_type": "markdown",
   "id": "edfa80b5-bc92-4e5e-9f50-d00b9cc81f7a",
   "metadata": {},
   "source": [
    "### Loading Data"
   ]
  },
  {
   "cell_type": "code",
   "execution_count": 5,
   "id": "1f209241-a91f-4507-8d20-cf75b96e7995",
   "metadata": {},
   "outputs": [],
   "source": [
    "df = pd.read_csv(\"/Users/joaquinromero/Desktop/HPTP/data/train.csv\", sep=\";\")"
   ]
  },
  {
   "cell_type": "code",
   "execution_count": 6,
   "id": "ba730851-57b7-42fe-bb16-6ee901a68ba1",
   "metadata": {},
   "outputs": [],
   "source": [
    "df['y'] = df['y'].map({'yes':1,'no':0})"
   ]
  },
  {
   "cell_type": "markdown",
   "id": "34c9b0ab-0418-4c28-9e83-c6ea76b13946",
   "metadata": {},
   "source": [
    "### Train/Test Split"
   ]
  },
  {
   "cell_type": "code",
   "execution_count": 7,
   "id": "12769057-d691-4025-9d12-6a7f1a3e728f",
   "metadata": {},
   "outputs": [],
   "source": [
    "df_train, df_test = train_test_split(df, test_size=0.1, random_state=0) "
   ]
  },
  {
   "cell_type": "markdown",
   "id": "37780929-0a47-4512-b9aa-c5a1787b3638",
   "metadata": {},
   "source": [
    "#### Placing Numerical Features"
   ]
  },
  {
   "cell_type": "code",
   "execution_count": 8,
   "id": "1897b596-1552-453f-91ac-df2aeedde1c2",
   "metadata": {},
   "outputs": [],
   "source": [
    "numerical_feats = list(df_train.drop(columns='y').select_dtypes(include=np.number).columns)"
   ]
  },
  {
   "cell_type": "markdown",
   "id": "f883bc79-57e3-4bdc-b878-8fee112ceda9",
   "metadata": {},
   "source": [
    "#### Placing Categorical Features"
   ]
  },
  {
   "cell_type": "code",
   "execution_count": 9,
   "id": "7ed6c960-e08f-4c52-b914-decc02f39195",
   "metadata": {},
   "outputs": [],
   "source": [
    "categorical_feats = list(df_train.drop(columns='y').select_dtypes(exclude=np.number).columns)"
   ]
  },
  {
   "cell_type": "markdown",
   "id": "f154bcbf-e0b3-4891-a755-662a616495fe",
   "metadata": {},
   "source": [
    "### Preprocessor"
   ]
  },
  {
   "cell_type": "code",
   "execution_count": 10,
   "id": "c11caa2a-8a1e-4c00-b88b-677d4a41763d",
   "metadata": {},
   "outputs": [],
   "source": [
    "# Normalization Pre-processing for Numerical Features\n",
    "numeric_preprocessor = StandardScaler()\n",
    "\n",
    "# One-Hot-Encoding Pre-processing for Categorical Features\n",
    "categorical_preprocessor = OneHotEncoder(handle_unknown=\"ignore\")"
   ]
  },
  {
   "cell_type": "code",
   "execution_count": 11,
   "id": "240f1e79-ed33-4c2e-b988-531f6e5e1992",
   "metadata": {},
   "outputs": [],
   "source": [
    "preprocessor = ColumnTransformer(\n",
    "    transformers=[\n",
    "        (\"num\", numeric_preprocessor, numerical_feats),\n",
    "        (\"cat\", categorical_preprocessor, categorical_feats),\n",
    "    ]\n",
    ")"
   ]
  },
  {
   "cell_type": "markdown",
   "id": "a6d76337-166e-460a-b45e-934a1f993b1b",
   "metadata": {},
   "source": [
    "### Pipeline"
   ]
  },
  {
   "cell_type": "code",
   "execution_count": 12,
   "id": "29224d8f-5fc9-4b07-a607-6d1c713d6563",
   "metadata": {},
   "outputs": [],
   "source": [
    "pipe = Pipeline(\n",
    "    steps=[(\"preprocessor\", preprocessor), \n",
    "           (\"model\", RandomForestClassifier(random_state=0))]\n",
    ")"
   ]
  },
  {
   "cell_type": "markdown",
   "id": "1a31122d-3b0a-4f6a-8dbd-bbdd474ab0c3",
   "metadata": {},
   "source": [
    "#### Placing All Features for Training Set"
   ]
  },
  {
   "cell_type": "code",
   "execution_count": 13,
   "id": "f0a2c803-e766-4797-a063-edd9dec7fe51",
   "metadata": {},
   "outputs": [
    {
     "name": "stdout",
     "output_type": "stream",
     "text": [
      "<class 'pandas.core.frame.DataFrame'>\n",
      "Index: 40689 entries, 17974 to 2732\n",
      "Data columns (total 16 columns):\n",
      " #   Column     Non-Null Count  Dtype \n",
      "---  ------     --------------  ----- \n",
      " 0   age        40689 non-null  int64 \n",
      " 1   job        40689 non-null  object\n",
      " 2   marital    40689 non-null  object\n",
      " 3   education  40689 non-null  object\n",
      " 4   default    40689 non-null  object\n",
      " 5   balance    40689 non-null  int64 \n",
      " 6   housing    40689 non-null  object\n",
      " 7   loan       40689 non-null  object\n",
      " 8   contact    40689 non-null  object\n",
      " 9   day        40689 non-null  int64 \n",
      " 10  month      40689 non-null  object\n",
      " 11  duration   40689 non-null  int64 \n",
      " 12  campaign   40689 non-null  int64 \n",
      " 13  pdays      40689 non-null  int64 \n",
      " 14  previous   40689 non-null  int64 \n",
      " 15  poutcome   40689 non-null  object\n",
      "dtypes: int64(7), object(9)\n",
      "memory usage: 5.3+ MB\n"
     ]
    }
   ],
   "source": [
    "X_train_full = df_train.drop(columns=['y'])\n",
    "y_train = df_train['y']\n",
    "\n",
    "X_train_full.info()"
   ]
  },
  {
   "cell_type": "markdown",
   "id": "56f472d4-b666-41f2-b1e3-add4a2b7c359",
   "metadata": {},
   "source": [
    "#### Placing All Features for Test Set"
   ]
  },
  {
   "cell_type": "code",
   "execution_count": 14,
   "id": "74f76748-3438-4ef1-b316-b3550fba2751",
   "metadata": {},
   "outputs": [
    {
     "name": "stdout",
     "output_type": "stream",
     "text": [
      "<class 'pandas.core.frame.DataFrame'>\n",
      "Index: 4522 entries, 14001 to 25978\n",
      "Data columns (total 16 columns):\n",
      " #   Column     Non-Null Count  Dtype \n",
      "---  ------     --------------  ----- \n",
      " 0   age        4522 non-null   int64 \n",
      " 1   job        4522 non-null   object\n",
      " 2   marital    4522 non-null   object\n",
      " 3   education  4522 non-null   object\n",
      " 4   default    4522 non-null   object\n",
      " 5   balance    4522 non-null   int64 \n",
      " 6   housing    4522 non-null   object\n",
      " 7   loan       4522 non-null   object\n",
      " 8   contact    4522 non-null   object\n",
      " 9   day        4522 non-null   int64 \n",
      " 10  month      4522 non-null   object\n",
      " 11  duration   4522 non-null   int64 \n",
      " 12  campaign   4522 non-null   int64 \n",
      " 13  pdays      4522 non-null   int64 \n",
      " 14  previous   4522 non-null   int64 \n",
      " 15  poutcome   4522 non-null   object\n",
      "dtypes: int64(7), object(9)\n",
      "memory usage: 600.6+ KB\n"
     ]
    }
   ],
   "source": [
    "X_test_full = df_test.drop(columns=['y'])\n",
    "y_test = df_test['y']\n",
    "\n",
    "X_test_full.info()"
   ]
  },
  {
   "cell_type": "markdown",
   "id": "4a3230f7-ae4c-4364-8a16-14d7fc9efbfe",
   "metadata": {},
   "source": [
    "#### Calculate F1-Score on Test Data without Hyperparameter Tuning"
   ]
  },
  {
   "cell_type": "code",
   "execution_count": 15,
   "id": "fe2eea60-9d4e-4370-aaec-9dca02fbaf33",
   "metadata": {},
   "outputs": [
    {
     "name": "stdout",
     "output_type": "stream",
     "text": [
      "0.5035971223021583\n"
     ]
    }
   ],
   "source": [
    "# Fit the pipeline on train data \n",
    "pipe.fit(X_train_full,y_train)\n",
    "\n",
    "# Evaluate on the test data \n",
    "y_pred = pipe.predict(X_test_full)\n",
    "print(f1_score(y_test, y_pred))"
   ]
  },
  {
   "cell_type": "markdown",
   "id": "e241c891-ea82-414a-a3da-ef9c7eeaeecf",
   "metadata": {},
   "source": [
    "### Hyperparameter Space"
   ]
  },
  {
   "cell_type": "code",
   "execution_count": 16,
   "id": "4dc285af-24f2-4ed2-be74-9da71eeab0f1",
   "metadata": {},
   "outputs": [],
   "source": [
    "hyperparameter_space = { \n",
    "    'model__n_estimators': {'_type': 'randint', '_value': [5, 200]}, \n",
    "    'model__criterion': {'_type': 'choice', '_value': ['gini', 'entropy']}, \n",
    "    'model__class_weight': {'_type': 'choice', '_value': [\"balanced\",\"balanced_subsample\"]}, \n",
    "    'model__min_samples_split': {'_type': 'uniform', '_value': [0, 0.1]}, \n",
    "}  "
   ]
  },
  {
   "cell_type": "code",
   "execution_count": 17,
   "id": "2692bba3-8566-4712-b872-d47466b0c03b",
   "metadata": {},
   "outputs": [],
   "source": [
    "hyperparameter_space_numeric = { \n",
    "    'model__n_estimators': {'_type': 'randint', '_value': [5, 200]}, \n",
    "    'model__criterion': {'_type': 'choice', '_value': [0, 1]}, \n",
    "    'model__class_weight': {'_type': 'choice', '_value': [0, 1]}, \n",
    "    'model__min_samples_split': {'_type': 'uniform', '_value': [0, 0.1]}, \n",
    "}  "
   ]
  },
  {
   "cell_type": "code",
   "execution_count": 18,
   "id": "a37360e3-ed0b-47e3-809f-4758ddc4fa9e",
   "metadata": {},
   "outputs": [],
   "source": [
    "hyperparameter_space_advisor = { \n",
    "    'model__criterion': {'_type': 'choice', '_value': ['gini', 'entropy']}, \n",
    "    'model__class_weight': {'_type': 'choice', '_value': [\"balanced\",\"balanced_subsample\"]}, \n",
    "    'model__min_samples_split': {'_type': 'uniform', '_value': [0, 0.1]}, \n",
    "}  "
   ]
  },
  {
   "cell_type": "markdown",
   "id": "cd325d01-f05e-455a-bc18-1a051d5811d5",
   "metadata": {},
   "source": [
    "### Grid Search"
   ]
  },
  {
   "cell_type": "code",
   "execution_count": 19,
   "id": "a4d758ab-ef39-4e4c-ad74-653769eed130",
   "metadata": {},
   "outputs": [],
   "source": [
    "best_parameters = {\n",
    "    \"model__n_estimators\": 27,\n",
    "    \"model__criterion\": \"entropy\",\n",
    "    \"model__class_weight\": \"balanced_subsample\",\n",
    "    \"model__min_samples_split\": 0.05\n",
    "}"
   ]
  },
  {
   "cell_type": "code",
   "execution_count": 21,
   "id": "e305087f-15e1-451c-ae34-5476bddac129",
   "metadata": {},
   "outputs": [],
   "source": [
    "tuned_pipe = clone(pipe).set_params(**best_parameters)\n",
    "\n",
    "# Fit the pipeline on train data \n",
    "tuned_pipe.fit(X_train_full,y_train)\n",
    "\n",
    "# Evaluate on the test data \n",
    "y_pred = tuned_pipe.predict(X_test_full)\n",
    "print(f1_score(y_test, y_pred))"
   ]
  },
  {
   "cell_type": "code",
   "execution_count": null,
   "id": "72b32d35-6376-487e-8d5a-d207cec11be3",
   "metadata": {},
   "outputs": [],
   "source": [
    "### "
   ]
  },
  {
   "cell_type": "code",
   "execution_count": null,
   "id": "d14fb9a9-492b-415e-aaec-7353c4e793d0",
   "metadata": {},
   "outputs": [],
   "source": []
  },
  {
   "cell_type": "markdown",
   "id": "f891710c-8323-4589-8c57-e8f94e0c4387",
   "metadata": {},
   "source": [
    "#### "
   ]
  },
  {
   "cell_type": "code",
   "execution_count": null,
   "id": "a39f615c-5b38-4435-add0-7c327f911652",
   "metadata": {},
   "outputs": [],
   "source": []
  },
  {
   "cell_type": "code",
   "execution_count": null,
   "id": "8b22073d-9c3a-48ba-aa9c-a0f7b91456e4",
   "metadata": {},
   "outputs": [],
   "source": []
  },
  {
   "cell_type": "code",
   "execution_count": null,
   "id": "fc69b084-a5f0-4b9f-9ad6-4a46533d053c",
   "metadata": {},
   "outputs": [],
   "source": []
  },
  {
   "cell_type": "code",
   "execution_count": null,
   "id": "92d76391-4793-4c10-acec-9e0bb16d08fb",
   "metadata": {},
   "outputs": [],
   "source": []
  }
 ],
 "metadata": {
  "kernelspec": {
   "display_name": "Python 3 (ipykernel)",
   "language": "python",
   "name": "python3"
  },
  "language_info": {
   "codemirror_mode": {
    "name": "ipython",
    "version": 3
   },
   "file_extension": ".py",
   "mimetype": "text/x-python",
   "name": "python",
   "nbconvert_exporter": "python",
   "pygments_lexer": "ipython3",
   "version": "3.10.18"
  }
 },
 "nbformat": 4,
 "nbformat_minor": 5
}
